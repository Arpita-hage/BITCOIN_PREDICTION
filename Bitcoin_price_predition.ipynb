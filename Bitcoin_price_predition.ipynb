{
  "nbformat": 4,
  "nbformat_minor": 0,
  "metadata": {
    "colab": {
      "name": "Bitcoin_price_predition.ipynb",
      "provenance": [],
      "collapsed_sections": [
        "qFxjLi-O0c_g",
        "SJDWbTht0o7m",
        "LS7hpbSx0zyx",
        "-TmdRhUnuIau",
        "B4dHxFtvbFDT"
      ]
    },
    "kernelspec": {
      "display_name": "Python 3",
      "name": "python3"
    },
    "language_info": {
      "name": "python"
    }
  },
  "cells": [
    {
      "cell_type": "markdown",
      "metadata": {
        "id": "kfHXJEDvbU3X"
      },
      "source": [
        "##                           **BITCOIN PRICE PREDICTION**\n",
        "\n",
        "\n"
      ]
    },
    {
      "cell_type": "markdown",
      "metadata": {
        "id": "IFQbSc3999uW"
      },
      "source": [
        "Bitcoin is a type of digital asset that uses public-key cryptography to record, sign and send transactions over the Bitcoin blockchain. Its the world's first decentralized cryptocurrency.\n",
        "In this project, we will view the trends in price of bitcoin and try to predict its variations for the next 30 days using a suitable model."
      ]
    },
    {
      "cell_type": "markdown",
      "metadata": {
        "id": "qFxjLi-O0c_g"
      },
      "source": [
        "# Importing Libraries\n"
      ]
    },
    {
      "cell_type": "code",
      "metadata": {
        "id": "-VChu9R99N-t"
      },
      "source": [
        "import numpy as np\n",
        "\n",
        "import pandas as pd\n",
        "\n",
        "\n",
        "import matplotlib.pyplot as plt\n",
        "import seaborn as sns\n",
        "%matplotlib inline\n",
        "\n",
        "from sklearn.metrics import r2_score,mean_squared_error\n",
        "\n",
        "\n",
        "from datetime import datetime\n"
      ],
      "execution_count": 1,
      "outputs": []
    },
    {
      "cell_type": "markdown",
      "metadata": {
        "id": "TsWo-y9wUysV"
      },
      "source": [
        "# Importing dataset"
      ]
    },
    {
      "cell_type": "code",
      "metadata": {
        "colab": {
          "resources": {
            "http://localhost:8080/nbextensions/google.colab/files.js": {
              "data": "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",
              "ok": true,
              "headers": [
                [
                  "content-type",
                  "application/javascript"
                ]
              ],
              "status": 200,
              "status_text": ""
            }
          },
          "base_uri": "https://localhost:8080/",
          "height": 73
        },
        "id": "8twAC0ao9OqY",
        "outputId": "115d19ef-a532-404f-892b-510ed7ba8751"
      },
      "source": [
        "from google.colab import files\n",
        "\n",
        "uploaded=files.upload()\n",
        "\n",
        "import io\n",
        "\n",
        "df=pd.read_csv(io.BytesIO(uploaded['bitcoin.csv']))"
      ],
      "execution_count": 2,
      "outputs": [
        {
          "output_type": "display_data",
          "data": {
            "text/html": [
              "\n",
              "     <input type=\"file\" id=\"files-2484631b-728a-4e64-8b32-6db965be301b\" name=\"files[]\" multiple disabled\n",
              "        style=\"border:none\" />\n",
              "     <output id=\"result-2484631b-728a-4e64-8b32-6db965be301b\">\n",
              "      Upload widget is only available when the cell has been executed in the\n",
              "      current browser session. Please rerun this cell to enable.\n",
              "      </output>\n",
              "      <script src=\"/nbextensions/google.colab/files.js\"></script> "
            ],
            "text/plain": [
              "<IPython.core.display.HTML object>"
            ]
          },
          "metadata": {}
        },
        {
          "output_type": "stream",
          "name": "stdout",
          "text": [
            "Saving bitcoin.csv to bitcoin.csv\n"
          ]
        }
      ]
    },
    {
      "cell_type": "markdown",
      "metadata": {
        "id": "SJDWbTht0o7m"
      },
      "source": [
        "# Data Wrangling"
      ]
    },
    {
      "cell_type": "code",
      "metadata": {
        "id": "9R9bFiXE9Os8",
        "colab": {
          "base_uri": "https://localhost:8080/"
        },
        "outputId": "cd7519f7-0e6c-40b5-f7eb-e2666b8d9dd4"
      },
      "source": [
        "df.info()"
      ],
      "execution_count": 3,
      "outputs": [
        {
          "output_type": "stream",
          "name": "stdout",
          "text": [
            "<class 'pandas.core.frame.DataFrame'>\n",
            "RangeIndex: 276866 entries, 0 to 276865\n",
            "Data columns (total 9 columns):\n",
            " #   Column             Non-Null Count   Dtype  \n",
            "---  ------             --------------   -----  \n",
            " 0   Unnamed: 0         276866 non-null  int64  \n",
            " 1   Timestamp          276866 non-null  int64  \n",
            " 2   Open               276866 non-null  float64\n",
            " 3   High               276866 non-null  float64\n",
            " 4   Low                276866 non-null  float64\n",
            " 5   Close              276866 non-null  float64\n",
            " 6   Volume_(BTC)       276866 non-null  float64\n",
            " 7   Volume_(Currency)  276866 non-null  float64\n",
            " 8   Weighted_Price     276866 non-null  float64\n",
            "dtypes: float64(7), int64(2)\n",
            "memory usage: 19.0 MB\n"
          ]
        }
      ]
    },
    {
      "cell_type": "code",
      "metadata": {
        "id": "euaAw5lh9Ov4",
        "colab": {
          "base_uri": "https://localhost:8080/",
          "height": 0
        },
        "outputId": "6df31156-c85e-4bd6-a304-d4b22210adbe"
      },
      "source": [
        "df.describe()"
      ],
      "execution_count": 4,
      "outputs": [
        {
          "output_type": "execute_result",
          "data": {
            "text/html": [
              "<div>\n",
              "<style scoped>\n",
              "    .dataframe tbody tr th:only-of-type {\n",
              "        vertical-align: middle;\n",
              "    }\n",
              "\n",
              "    .dataframe tbody tr th {\n",
              "        vertical-align: top;\n",
              "    }\n",
              "\n",
              "    .dataframe thead th {\n",
              "        text-align: right;\n",
              "    }\n",
              "</style>\n",
              "<table border=\"1\" class=\"dataframe\">\n",
              "  <thead>\n",
              "    <tr style=\"text-align: right;\">\n",
              "      <th></th>\n",
              "      <th>Unnamed: 0</th>\n",
              "      <th>Timestamp</th>\n",
              "      <th>Open</th>\n",
              "      <th>High</th>\n",
              "      <th>Low</th>\n",
              "      <th>Close</th>\n",
              "      <th>Volume_(BTC)</th>\n",
              "      <th>Volume_(Currency)</th>\n",
              "      <th>Weighted_Price</th>\n",
              "    </tr>\n",
              "  </thead>\n",
              "  <tbody>\n",
              "    <tr>\n",
              "      <th>count</th>\n",
              "      <td>276866.000000</td>\n",
              "      <td>2.768660e+05</td>\n",
              "      <td>276866.000000</td>\n",
              "      <td>276866.000000</td>\n",
              "      <td>276866.000000</td>\n",
              "      <td>276866.000000</td>\n",
              "      <td>276866.000000</td>\n",
              "      <td>2.768660e+05</td>\n",
              "      <td>276866.000000</td>\n",
              "    </tr>\n",
              "    <tr>\n",
              "      <th>mean</th>\n",
              "      <td>138432.500000</td>\n",
              "      <td>1.475536e+09</td>\n",
              "      <td>3898.375518</td>\n",
              "      <td>3908.786492</td>\n",
              "      <td>3887.336767</td>\n",
              "      <td>3898.470747</td>\n",
              "      <td>109.988716</td>\n",
              "      <td>3.444010e+05</td>\n",
              "      <td>3898.121080</td>\n",
              "    </tr>\n",
              "    <tr>\n",
              "      <th>std</th>\n",
              "      <td>79924.474152</td>\n",
              "      <td>7.645154e+07</td>\n",
              "      <td>6849.737371</td>\n",
              "      <td>6871.143834</td>\n",
              "      <td>6827.992227</td>\n",
              "      <td>6850.220090</td>\n",
              "      <td>216.980364</td>\n",
              "      <td>8.839427e+05</td>\n",
              "      <td>6849.761874</td>\n",
              "    </tr>\n",
              "    <tr>\n",
              "      <th>min</th>\n",
              "      <td>0.000000</td>\n",
              "      <td>1.325242e+09</td>\n",
              "      <td>3.800000</td>\n",
              "      <td>4.140000</td>\n",
              "      <td>3.800000</td>\n",
              "      <td>4.140000</td>\n",
              "      <td>0.000000</td>\n",
              "      <td>0.000000e+00</td>\n",
              "      <td>3.870000</td>\n",
              "    </tr>\n",
              "    <tr>\n",
              "      <th>25%</th>\n",
              "      <td>69216.250000</td>\n",
              "      <td>1.410430e+09</td>\n",
              "      <td>316.780000</td>\n",
              "      <td>317.782500</td>\n",
              "      <td>315.652500</td>\n",
              "      <td>316.760000</td>\n",
              "      <td>18.650000</td>\n",
              "      <td>1.003947e+04</td>\n",
              "      <td>316.660000</td>\n",
              "    </tr>\n",
              "    <tr>\n",
              "      <th>50%</th>\n",
              "      <td>138432.500000</td>\n",
              "      <td>1.472632e+09</td>\n",
              "      <td>714.000000</td>\n",
              "      <td>715.595000</td>\n",
              "      <td>711.855000</td>\n",
              "      <td>714.020000</td>\n",
              "      <td>47.750000</td>\n",
              "      <td>5.949789e+04</td>\n",
              "      <td>713.930000</td>\n",
              "    </tr>\n",
              "    <tr>\n",
              "      <th>75%</th>\n",
              "      <td>207648.750000</td>\n",
              "      <td>1.542161e+09</td>\n",
              "      <td>6542.877500</td>\n",
              "      <td>6552.680000</td>\n",
              "      <td>6532.750000</td>\n",
              "      <td>6543.220000</td>\n",
              "      <td>115.107500</td>\n",
              "      <td>2.991222e+05</td>\n",
              "      <td>6542.747500</td>\n",
              "    </tr>\n",
              "    <tr>\n",
              "      <th>max</th>\n",
              "      <td>276865.000000</td>\n",
              "      <td>1.617149e+09</td>\n",
              "      <td>61615.510000</td>\n",
              "      <td>61781.830000</td>\n",
              "      <td>61350.300000</td>\n",
              "      <td>61627.260000</td>\n",
              "      <td>11166.690000</td>\n",
              "      <td>3.449055e+07</td>\n",
              "      <td>61608.640000</td>\n",
              "    </tr>\n",
              "  </tbody>\n",
              "</table>\n",
              "</div>"
            ],
            "text/plain": [
              "          Unnamed: 0     Timestamp  ...  Volume_(Currency)  Weighted_Price\n",
              "count  276866.000000  2.768660e+05  ...       2.768660e+05   276866.000000\n",
              "mean   138432.500000  1.475536e+09  ...       3.444010e+05     3898.121080\n",
              "std     79924.474152  7.645154e+07  ...       8.839427e+05     6849.761874\n",
              "min         0.000000  1.325242e+09  ...       0.000000e+00        3.870000\n",
              "25%     69216.250000  1.410430e+09  ...       1.003947e+04      316.660000\n",
              "50%    138432.500000  1.472632e+09  ...       5.949789e+04      713.930000\n",
              "75%    207648.750000  1.542161e+09  ...       2.991222e+05     6542.747500\n",
              "max    276865.000000  1.617149e+09  ...       3.449055e+07    61608.640000\n",
              "\n",
              "[8 rows x 9 columns]"
            ]
          },
          "metadata": {},
          "execution_count": 4
        }
      ]
    },
    {
      "cell_type": "markdown",
      "metadata": {
        "id": "Ba2mzfp6iKEI"
      },
      "source": [
        "Checking for null values "
      ]
    },
    {
      "cell_type": "code",
      "metadata": {
        "id": "OYzDFYfE9Oyk",
        "colab": {
          "base_uri": "https://localhost:8080/"
        },
        "outputId": "70c348e7-3b0d-4506-818a-15cb31e59989"
      },
      "source": [
        "df.isnull().sum()"
      ],
      "execution_count": 5,
      "outputs": [
        {
          "output_type": "execute_result",
          "data": {
            "text/plain": [
              "Unnamed: 0           0\n",
              "Timestamp            0\n",
              "Open                 0\n",
              "High                 0\n",
              "Low                  0\n",
              "Close                0\n",
              "Volume_(BTC)         0\n",
              "Volume_(Currency)    0\n",
              "Weighted_Price       0\n",
              "dtype: int64"
            ]
          },
          "metadata": {},
          "execution_count": 5
        }
      ]
    },
    {
      "cell_type": "markdown",
      "metadata": {
        "id": "jxukOXEkiQvc"
      },
      "source": [
        "There are no null values"
      ]
    },
    {
      "cell_type": "code",
      "metadata": {
        "id": "OCL6hSWU9O1u",
        "colab": {
          "base_uri": "https://localhost:8080/",
          "height": 0
        },
        "outputId": "19b6d0a6-c65d-4cdd-ae87-bd25928fb24e"
      },
      "source": [
        "df.head()"
      ],
      "execution_count": 6,
      "outputs": [
        {
          "output_type": "execute_result",
          "data": {
            "text/html": [
              "<div>\n",
              "<style scoped>\n",
              "    .dataframe tbody tr th:only-of-type {\n",
              "        vertical-align: middle;\n",
              "    }\n",
              "\n",
              "    .dataframe tbody tr th {\n",
              "        vertical-align: top;\n",
              "    }\n",
              "\n",
              "    .dataframe thead th {\n",
              "        text-align: right;\n",
              "    }\n",
              "</style>\n",
              "<table border=\"1\" class=\"dataframe\">\n",
              "  <thead>\n",
              "    <tr style=\"text-align: right;\">\n",
              "      <th></th>\n",
              "      <th>Unnamed: 0</th>\n",
              "      <th>Timestamp</th>\n",
              "      <th>Open</th>\n",
              "      <th>High</th>\n",
              "      <th>Low</th>\n",
              "      <th>Close</th>\n",
              "      <th>Volume_(BTC)</th>\n",
              "      <th>Volume_(Currency)</th>\n",
              "      <th>Weighted_Price</th>\n",
              "    </tr>\n",
              "  </thead>\n",
              "  <tbody>\n",
              "    <tr>\n",
              "      <th>0</th>\n",
              "      <td>0</td>\n",
              "      <td>1325241900</td>\n",
              "      <td>4.26</td>\n",
              "      <td>4.26</td>\n",
              "      <td>4.21</td>\n",
              "      <td>4.21</td>\n",
              "      <td>12.33</td>\n",
              "      <td>51.96</td>\n",
              "      <td>4.21</td>\n",
              "    </tr>\n",
              "    <tr>\n",
              "      <th>1</th>\n",
              "      <td>1</td>\n",
              "      <td>1325253600</td>\n",
              "      <td>4.50</td>\n",
              "      <td>4.50</td>\n",
              "      <td>4.50</td>\n",
              "      <td>4.50</td>\n",
              "      <td>4.20</td>\n",
              "      <td>18.90</td>\n",
              "      <td>4.50</td>\n",
              "    </tr>\n",
              "    <tr>\n",
              "      <th>2</th>\n",
              "      <td>2</td>\n",
              "      <td>1325258100</td>\n",
              "      <td>4.21</td>\n",
              "      <td>4.21</td>\n",
              "      <td>4.21</td>\n",
              "      <td>4.21</td>\n",
              "      <td>39.77</td>\n",
              "      <td>167.43</td>\n",
              "      <td>4.21</td>\n",
              "    </tr>\n",
              "    <tr>\n",
              "      <th>3</th>\n",
              "      <td>3</td>\n",
              "      <td>1325259000</td>\n",
              "      <td>4.21</td>\n",
              "      <td>4.21</td>\n",
              "      <td>4.21</td>\n",
              "      <td>4.21</td>\n",
              "      <td>0.44</td>\n",
              "      <td>1.85</td>\n",
              "      <td>4.21</td>\n",
              "    </tr>\n",
              "    <tr>\n",
              "      <th>4</th>\n",
              "      <td>4</td>\n",
              "      <td>1325317500</td>\n",
              "      <td>4.39</td>\n",
              "      <td>4.39</td>\n",
              "      <td>4.39</td>\n",
              "      <td>4.39</td>\n",
              "      <td>0.46</td>\n",
              "      <td>2.00</td>\n",
              "      <td>4.39</td>\n",
              "    </tr>\n",
              "  </tbody>\n",
              "</table>\n",
              "</div>"
            ],
            "text/plain": [
              "   Unnamed: 0   Timestamp  ...  Volume_(Currency)  Weighted_Price\n",
              "0           0  1325241900  ...              51.96            4.21\n",
              "1           1  1325253600  ...              18.90            4.50\n",
              "2           2  1325258100  ...             167.43            4.21\n",
              "3           3  1325259000  ...               1.85            4.21\n",
              "4           4  1325317500  ...               2.00            4.39\n",
              "\n",
              "[5 rows x 9 columns]"
            ]
          },
          "metadata": {},
          "execution_count": 6
        }
      ]
    },
    {
      "cell_type": "markdown",
      "metadata": {
        "id": "w-1PtLOPjagC"
      },
      "source": [
        "Converting unix time to date time format"
      ]
    },
    {
      "cell_type": "code",
      "metadata": {
        "id": "acPMjUui9O4R"
      },
      "source": [
        "\n",
        "def timestampToDateTime(timestamp):\n",
        "    from datetime import datetime\n",
        "    return datetime.fromtimestamp(timestamp)\n",
        "df['Date']=df['Timestamp'].apply(timestampToDateTime)"
      ],
      "execution_count": 7,
      "outputs": []
    },
    {
      "cell_type": "markdown",
      "metadata": {
        "id": "6U1f8CZQkQ0z"
      },
      "source": [
        "Setting the index as date"
      ]
    },
    {
      "cell_type": "code",
      "metadata": {
        "id": "kRaGnAcZeVGD"
      },
      "source": [
        "timeindex=pd.DatetimeIndex(df['Date'])\n",
        "df['Timestamp'] = pd.to_datetime(df['Timestamp'],unit='s')\n",
        "df.set_index(timeindex,inplace=True)"
      ],
      "execution_count": 8,
      "outputs": []
    },
    {
      "cell_type": "code",
      "metadata": {
        "colab": {
          "base_uri": "https://localhost:8080/",
          "height": 0
        },
        "id": "G_9qhTSo1Yru",
        "outputId": "cb908677-aacb-4311-bd92-d38c8c59bcae"
      },
      "source": [
        "df['Year']=df['Date'].dt.year\n",
        "df.tail(3)"
      ],
      "execution_count": 9,
      "outputs": [
        {
          "output_type": "execute_result",
          "data": {
            "text/html": [
              "<div>\n",
              "<style scoped>\n",
              "    .dataframe tbody tr th:only-of-type {\n",
              "        vertical-align: middle;\n",
              "    }\n",
              "\n",
              "    .dataframe tbody tr th {\n",
              "        vertical-align: top;\n",
              "    }\n",
              "\n",
              "    .dataframe thead th {\n",
              "        text-align: right;\n",
              "    }\n",
              "</style>\n",
              "<table border=\"1\" class=\"dataframe\">\n",
              "  <thead>\n",
              "    <tr style=\"text-align: right;\">\n",
              "      <th></th>\n",
              "      <th>Unnamed: 0</th>\n",
              "      <th>Timestamp</th>\n",
              "      <th>Open</th>\n",
              "      <th>High</th>\n",
              "      <th>Low</th>\n",
              "      <th>Close</th>\n",
              "      <th>Volume_(BTC)</th>\n",
              "      <th>Volume_(Currency)</th>\n",
              "      <th>Weighted_Price</th>\n",
              "      <th>Date</th>\n",
              "      <th>Year</th>\n",
              "    </tr>\n",
              "    <tr>\n",
              "      <th>Date</th>\n",
              "      <th></th>\n",
              "      <th></th>\n",
              "      <th></th>\n",
              "      <th></th>\n",
              "      <th></th>\n",
              "      <th></th>\n",
              "      <th></th>\n",
              "      <th></th>\n",
              "      <th></th>\n",
              "      <th></th>\n",
              "      <th></th>\n",
              "    </tr>\n",
              "  </thead>\n",
              "  <tbody>\n",
              "    <tr>\n",
              "      <th>2021-03-30 23:30:00</th>\n",
              "      <td>276863</td>\n",
              "      <td>2021-03-30 23:30:00</td>\n",
              "      <td>58766.56</td>\n",
              "      <td>58766.56</td>\n",
              "      <td>58599.78</td>\n",
              "      <td>58600.00</td>\n",
              "      <td>24.67</td>\n",
              "      <td>1446170.82</td>\n",
              "      <td>58619.58</td>\n",
              "      <td>2021-03-30 23:30:00</td>\n",
              "      <td>2021</td>\n",
              "    </tr>\n",
              "    <tr>\n",
              "      <th>2021-03-30 23:45:00</th>\n",
              "      <td>276864</td>\n",
              "      <td>2021-03-30 23:45:00</td>\n",
              "      <td>58599.99</td>\n",
              "      <td>58770.38</td>\n",
              "      <td>58599.99</td>\n",
              "      <td>58760.59</td>\n",
              "      <td>40.11</td>\n",
              "      <td>2353284.47</td>\n",
              "      <td>58669.39</td>\n",
              "      <td>2021-03-30 23:45:00</td>\n",
              "      <td>2021</td>\n",
              "    </tr>\n",
              "    <tr>\n",
              "      <th>2021-03-31 00:00:00</th>\n",
              "      <td>276865</td>\n",
              "      <td>2021-03-31 00:00:00</td>\n",
              "      <td>58767.75</td>\n",
              "      <td>58931.24</td>\n",
              "      <td>58718.17</td>\n",
              "      <td>58887.18</td>\n",
              "      <td>26.05</td>\n",
              "      <td>1532169.96</td>\n",
              "      <td>58813.66</td>\n",
              "      <td>2021-03-31 00:00:00</td>\n",
              "      <td>2021</td>\n",
              "    </tr>\n",
              "  </tbody>\n",
              "</table>\n",
              "</div>"
            ],
            "text/plain": [
              "                     Unnamed: 0           Timestamp  ...                Date  Year\n",
              "Date                                                 ...                          \n",
              "2021-03-30 23:30:00      276863 2021-03-30 23:30:00  ... 2021-03-30 23:30:00  2021\n",
              "2021-03-30 23:45:00      276864 2021-03-30 23:45:00  ... 2021-03-30 23:45:00  2021\n",
              "2021-03-31 00:00:00      276865 2021-03-31 00:00:00  ... 2021-03-31 00:00:00  2021\n",
              "\n",
              "[3 rows x 11 columns]"
            ]
          },
          "metadata": {},
          "execution_count": 9
        }
      ]
    },
    {
      "cell_type": "code",
      "metadata": {
        "id": "EgQHO7wO9O69",
        "colab": {
          "base_uri": "https://localhost:8080/",
          "height": 0
        },
        "outputId": "557b0f95-c715-4df7-9993-b9f44455363f"
      },
      "source": [
        "df['Date'] = df['Timestamp'].dt.strftime('%Y-%m-%d')\n",
        "df.tail()"
      ],
      "execution_count": 10,
      "outputs": [
        {
          "output_type": "execute_result",
          "data": {
            "text/html": [
              "<div>\n",
              "<style scoped>\n",
              "    .dataframe tbody tr th:only-of-type {\n",
              "        vertical-align: middle;\n",
              "    }\n",
              "\n",
              "    .dataframe tbody tr th {\n",
              "        vertical-align: top;\n",
              "    }\n",
              "\n",
              "    .dataframe thead th {\n",
              "        text-align: right;\n",
              "    }\n",
              "</style>\n",
              "<table border=\"1\" class=\"dataframe\">\n",
              "  <thead>\n",
              "    <tr style=\"text-align: right;\">\n",
              "      <th></th>\n",
              "      <th>Unnamed: 0</th>\n",
              "      <th>Timestamp</th>\n",
              "      <th>Open</th>\n",
              "      <th>High</th>\n",
              "      <th>Low</th>\n",
              "      <th>Close</th>\n",
              "      <th>Volume_(BTC)</th>\n",
              "      <th>Volume_(Currency)</th>\n",
              "      <th>Weighted_Price</th>\n",
              "      <th>Date</th>\n",
              "      <th>Year</th>\n",
              "    </tr>\n",
              "    <tr>\n",
              "      <th>Date</th>\n",
              "      <th></th>\n",
              "      <th></th>\n",
              "      <th></th>\n",
              "      <th></th>\n",
              "      <th></th>\n",
              "      <th></th>\n",
              "      <th></th>\n",
              "      <th></th>\n",
              "      <th></th>\n",
              "      <th></th>\n",
              "      <th></th>\n",
              "    </tr>\n",
              "  </thead>\n",
              "  <tbody>\n",
              "    <tr>\n",
              "      <th>2021-03-30 23:00:00</th>\n",
              "      <td>276861</td>\n",
              "      <td>2021-03-30 23:00:00</td>\n",
              "      <td>58699.43</td>\n",
              "      <td>58734.72</td>\n",
              "      <td>58567.11</td>\n",
              "      <td>58733.62</td>\n",
              "      <td>7.85</td>\n",
              "      <td>460410.98</td>\n",
              "      <td>58628.91</td>\n",
              "      <td>2021-03-30</td>\n",
              "      <td>2021</td>\n",
              "    </tr>\n",
              "    <tr>\n",
              "      <th>2021-03-30 23:15:00</th>\n",
              "      <td>276862</td>\n",
              "      <td>2021-03-30 23:15:00</td>\n",
              "      <td>58704.85</td>\n",
              "      <td>58748.45</td>\n",
              "      <td>58573.63</td>\n",
              "      <td>58748.45</td>\n",
              "      <td>5.69</td>\n",
              "      <td>334078.89</td>\n",
              "      <td>58662.70</td>\n",
              "      <td>2021-03-30</td>\n",
              "      <td>2021</td>\n",
              "    </tr>\n",
              "    <tr>\n",
              "      <th>2021-03-30 23:30:00</th>\n",
              "      <td>276863</td>\n",
              "      <td>2021-03-30 23:30:00</td>\n",
              "      <td>58766.56</td>\n",
              "      <td>58766.56</td>\n",
              "      <td>58599.78</td>\n",
              "      <td>58600.00</td>\n",
              "      <td>24.67</td>\n",
              "      <td>1446170.82</td>\n",
              "      <td>58619.58</td>\n",
              "      <td>2021-03-30</td>\n",
              "      <td>2021</td>\n",
              "    </tr>\n",
              "    <tr>\n",
              "      <th>2021-03-30 23:45:00</th>\n",
              "      <td>276864</td>\n",
              "      <td>2021-03-30 23:45:00</td>\n",
              "      <td>58599.99</td>\n",
              "      <td>58770.38</td>\n",
              "      <td>58599.99</td>\n",
              "      <td>58760.59</td>\n",
              "      <td>40.11</td>\n",
              "      <td>2353284.47</td>\n",
              "      <td>58669.39</td>\n",
              "      <td>2021-03-30</td>\n",
              "      <td>2021</td>\n",
              "    </tr>\n",
              "    <tr>\n",
              "      <th>2021-03-31 00:00:00</th>\n",
              "      <td>276865</td>\n",
              "      <td>2021-03-31 00:00:00</td>\n",
              "      <td>58767.75</td>\n",
              "      <td>58931.24</td>\n",
              "      <td>58718.17</td>\n",
              "      <td>58887.18</td>\n",
              "      <td>26.05</td>\n",
              "      <td>1532169.96</td>\n",
              "      <td>58813.66</td>\n",
              "      <td>2021-03-31</td>\n",
              "      <td>2021</td>\n",
              "    </tr>\n",
              "  </tbody>\n",
              "</table>\n",
              "</div>"
            ],
            "text/plain": [
              "                     Unnamed: 0           Timestamp  ...        Date  Year\n",
              "Date                                                 ...                  \n",
              "2021-03-30 23:00:00      276861 2021-03-30 23:00:00  ...  2021-03-30  2021\n",
              "2021-03-30 23:15:00      276862 2021-03-30 23:15:00  ...  2021-03-30  2021\n",
              "2021-03-30 23:30:00      276863 2021-03-30 23:30:00  ...  2021-03-30  2021\n",
              "2021-03-30 23:45:00      276864 2021-03-30 23:45:00  ...  2021-03-30  2021\n",
              "2021-03-31 00:00:00      276865 2021-03-31 00:00:00  ...  2021-03-31  2021\n",
              "\n",
              "[5 rows x 11 columns]"
            ]
          },
          "metadata": {},
          "execution_count": 10
        }
      ]
    },
    {
      "cell_type": "code",
      "metadata": {
        "id": "6Q_zUq2c9O-N"
      },
      "source": [
        "df.drop('Timestamp',axis=1,inplace=True)"
      ],
      "execution_count": 11,
      "outputs": []
    },
    {
      "cell_type": "code",
      "metadata": {
        "id": "0eja5j70_W8K"
      },
      "source": [
        "df.drop('Unnamed: 0',axis=1,inplace=True)"
      ],
      "execution_count": 12,
      "outputs": []
    },
    {
      "cell_type": "code",
      "metadata": {
        "colab": {
          "base_uri": "https://localhost:8080/"
        },
        "id": "-DnTq9dFUdfP",
        "outputId": "847566b8-535c-4b29-fcd6-7831b731d196"
      },
      "source": [
        "df.info()"
      ],
      "execution_count": 13,
      "outputs": [
        {
          "output_type": "stream",
          "name": "stdout",
          "text": [
            "<class 'pandas.core.frame.DataFrame'>\n",
            "DatetimeIndex: 276866 entries, 2011-12-30 10:45:00 to 2021-03-31 00:00:00\n",
            "Data columns (total 9 columns):\n",
            " #   Column             Non-Null Count   Dtype  \n",
            "---  ------             --------------   -----  \n",
            " 0   Open               276866 non-null  float64\n",
            " 1   High               276866 non-null  float64\n",
            " 2   Low                276866 non-null  float64\n",
            " 3   Close              276866 non-null  float64\n",
            " 4   Volume_(BTC)       276866 non-null  float64\n",
            " 5   Volume_(Currency)  276866 non-null  float64\n",
            " 6   Weighted_Price     276866 non-null  float64\n",
            " 7   Date               276866 non-null  object \n",
            " 8   Year               276866 non-null  int64  \n",
            "dtypes: float64(7), int64(1), object(1)\n",
            "memory usage: 21.1+ MB\n"
          ]
        }
      ]
    },
    {
      "cell_type": "markdown",
      "metadata": {
        "id": "zYtbQ-RklHm3"
      },
      "source": [
        "Converting date column values to string type"
      ]
    },
    {
      "cell_type": "code",
      "metadata": {
        "id": "l6twU_lT_hi1",
        "colab": {
          "base_uri": "https://localhost:8080/",
          "height": 0
        },
        "outputId": "bd71e436-455b-43a0-c0c2-5205c65b7382"
      },
      "source": [
        "df['Date']=df['Date'].apply(lambda x:str(x[:10]))\n",
        "df.head()"
      ],
      "execution_count": 14,
      "outputs": [
        {
          "output_type": "execute_result",
          "data": {
            "text/html": [
              "<div>\n",
              "<style scoped>\n",
              "    .dataframe tbody tr th:only-of-type {\n",
              "        vertical-align: middle;\n",
              "    }\n",
              "\n",
              "    .dataframe tbody tr th {\n",
              "        vertical-align: top;\n",
              "    }\n",
              "\n",
              "    .dataframe thead th {\n",
              "        text-align: right;\n",
              "    }\n",
              "</style>\n",
              "<table border=\"1\" class=\"dataframe\">\n",
              "  <thead>\n",
              "    <tr style=\"text-align: right;\">\n",
              "      <th></th>\n",
              "      <th>Open</th>\n",
              "      <th>High</th>\n",
              "      <th>Low</th>\n",
              "      <th>Close</th>\n",
              "      <th>Volume_(BTC)</th>\n",
              "      <th>Volume_(Currency)</th>\n",
              "      <th>Weighted_Price</th>\n",
              "      <th>Date</th>\n",
              "      <th>Year</th>\n",
              "    </tr>\n",
              "    <tr>\n",
              "      <th>Date</th>\n",
              "      <th></th>\n",
              "      <th></th>\n",
              "      <th></th>\n",
              "      <th></th>\n",
              "      <th></th>\n",
              "      <th></th>\n",
              "      <th></th>\n",
              "      <th></th>\n",
              "      <th></th>\n",
              "    </tr>\n",
              "  </thead>\n",
              "  <tbody>\n",
              "    <tr>\n",
              "      <th>2011-12-30 10:45:00</th>\n",
              "      <td>4.26</td>\n",
              "      <td>4.26</td>\n",
              "      <td>4.21</td>\n",
              "      <td>4.21</td>\n",
              "      <td>12.33</td>\n",
              "      <td>51.96</td>\n",
              "      <td>4.21</td>\n",
              "      <td>2011-12-30</td>\n",
              "      <td>2011</td>\n",
              "    </tr>\n",
              "    <tr>\n",
              "      <th>2011-12-30 14:00:00</th>\n",
              "      <td>4.50</td>\n",
              "      <td>4.50</td>\n",
              "      <td>4.50</td>\n",
              "      <td>4.50</td>\n",
              "      <td>4.20</td>\n",
              "      <td>18.90</td>\n",
              "      <td>4.50</td>\n",
              "      <td>2011-12-30</td>\n",
              "      <td>2011</td>\n",
              "    </tr>\n",
              "    <tr>\n",
              "      <th>2011-12-30 15:15:00</th>\n",
              "      <td>4.21</td>\n",
              "      <td>4.21</td>\n",
              "      <td>4.21</td>\n",
              "      <td>4.21</td>\n",
              "      <td>39.77</td>\n",
              "      <td>167.43</td>\n",
              "      <td>4.21</td>\n",
              "      <td>2011-12-30</td>\n",
              "      <td>2011</td>\n",
              "    </tr>\n",
              "    <tr>\n",
              "      <th>2011-12-30 15:30:00</th>\n",
              "      <td>4.21</td>\n",
              "      <td>4.21</td>\n",
              "      <td>4.21</td>\n",
              "      <td>4.21</td>\n",
              "      <td>0.44</td>\n",
              "      <td>1.85</td>\n",
              "      <td>4.21</td>\n",
              "      <td>2011-12-30</td>\n",
              "      <td>2011</td>\n",
              "    </tr>\n",
              "    <tr>\n",
              "      <th>2011-12-31 07:45:00</th>\n",
              "      <td>4.39</td>\n",
              "      <td>4.39</td>\n",
              "      <td>4.39</td>\n",
              "      <td>4.39</td>\n",
              "      <td>0.46</td>\n",
              "      <td>2.00</td>\n",
              "      <td>4.39</td>\n",
              "      <td>2011-12-31</td>\n",
              "      <td>2011</td>\n",
              "    </tr>\n",
              "  </tbody>\n",
              "</table>\n",
              "</div>"
            ],
            "text/plain": [
              "                     Open  High   Low  ...  Weighted_Price        Date  Year\n",
              "Date                                   ...                                  \n",
              "2011-12-30 10:45:00  4.26  4.26  4.21  ...            4.21  2011-12-30  2011\n",
              "2011-12-30 14:00:00  4.50  4.50  4.50  ...            4.50  2011-12-30  2011\n",
              "2011-12-30 15:15:00  4.21  4.21  4.21  ...            4.21  2011-12-30  2011\n",
              "2011-12-30 15:30:00  4.21  4.21  4.21  ...            4.21  2011-12-30  2011\n",
              "2011-12-31 07:45:00  4.39  4.39  4.39  ...            4.39  2011-12-31  2011\n",
              "\n",
              "[5 rows x 9 columns]"
            ]
          },
          "metadata": {},
          "execution_count": 14
        }
      ]
    },
    {
      "cell_type": "code",
      "metadata": {
        "id": "vBgN4_qH_hmn"
      },
      "source": [
        "df.set_index(df['Date'],inplace= True)\n",
        "#both the index and column have the same name(Date)\n",
        "df.rename(columns={'Date':'date'},inplace=True)"
      ],
      "execution_count": 15,
      "outputs": []
    },
    {
      "cell_type": "code",
      "metadata": {
        "id": "20bNiEVK_hp5",
        "colab": {
          "base_uri": "https://localhost:8080/",
          "height": 0
        },
        "outputId": "6d807acb-e7b2-4359-d851-99a63571939c"
      },
      "source": [
        "df.head()"
      ],
      "execution_count": 16,
      "outputs": [
        {
          "output_type": "execute_result",
          "data": {
            "text/html": [
              "<div>\n",
              "<style scoped>\n",
              "    .dataframe tbody tr th:only-of-type {\n",
              "        vertical-align: middle;\n",
              "    }\n",
              "\n",
              "    .dataframe tbody tr th {\n",
              "        vertical-align: top;\n",
              "    }\n",
              "\n",
              "    .dataframe thead th {\n",
              "        text-align: right;\n",
              "    }\n",
              "</style>\n",
              "<table border=\"1\" class=\"dataframe\">\n",
              "  <thead>\n",
              "    <tr style=\"text-align: right;\">\n",
              "      <th></th>\n",
              "      <th>Open</th>\n",
              "      <th>High</th>\n",
              "      <th>Low</th>\n",
              "      <th>Close</th>\n",
              "      <th>Volume_(BTC)</th>\n",
              "      <th>Volume_(Currency)</th>\n",
              "      <th>Weighted_Price</th>\n",
              "      <th>date</th>\n",
              "      <th>Year</th>\n",
              "    </tr>\n",
              "    <tr>\n",
              "      <th>Date</th>\n",
              "      <th></th>\n",
              "      <th></th>\n",
              "      <th></th>\n",
              "      <th></th>\n",
              "      <th></th>\n",
              "      <th></th>\n",
              "      <th></th>\n",
              "      <th></th>\n",
              "      <th></th>\n",
              "    </tr>\n",
              "  </thead>\n",
              "  <tbody>\n",
              "    <tr>\n",
              "      <th>2011-12-30</th>\n",
              "      <td>4.26</td>\n",
              "      <td>4.26</td>\n",
              "      <td>4.21</td>\n",
              "      <td>4.21</td>\n",
              "      <td>12.33</td>\n",
              "      <td>51.96</td>\n",
              "      <td>4.21</td>\n",
              "      <td>2011-12-30</td>\n",
              "      <td>2011</td>\n",
              "    </tr>\n",
              "    <tr>\n",
              "      <th>2011-12-30</th>\n",
              "      <td>4.50</td>\n",
              "      <td>4.50</td>\n",
              "      <td>4.50</td>\n",
              "      <td>4.50</td>\n",
              "      <td>4.20</td>\n",
              "      <td>18.90</td>\n",
              "      <td>4.50</td>\n",
              "      <td>2011-12-30</td>\n",
              "      <td>2011</td>\n",
              "    </tr>\n",
              "    <tr>\n",
              "      <th>2011-12-30</th>\n",
              "      <td>4.21</td>\n",
              "      <td>4.21</td>\n",
              "      <td>4.21</td>\n",
              "      <td>4.21</td>\n",
              "      <td>39.77</td>\n",
              "      <td>167.43</td>\n",
              "      <td>4.21</td>\n",
              "      <td>2011-12-30</td>\n",
              "      <td>2011</td>\n",
              "    </tr>\n",
              "    <tr>\n",
              "      <th>2011-12-30</th>\n",
              "      <td>4.21</td>\n",
              "      <td>4.21</td>\n",
              "      <td>4.21</td>\n",
              "      <td>4.21</td>\n",
              "      <td>0.44</td>\n",
              "      <td>1.85</td>\n",
              "      <td>4.21</td>\n",
              "      <td>2011-12-30</td>\n",
              "      <td>2011</td>\n",
              "    </tr>\n",
              "    <tr>\n",
              "      <th>2011-12-31</th>\n",
              "      <td>4.39</td>\n",
              "      <td>4.39</td>\n",
              "      <td>4.39</td>\n",
              "      <td>4.39</td>\n",
              "      <td>0.46</td>\n",
              "      <td>2.00</td>\n",
              "      <td>4.39</td>\n",
              "      <td>2011-12-31</td>\n",
              "      <td>2011</td>\n",
              "    </tr>\n",
              "  </tbody>\n",
              "</table>\n",
              "</div>"
            ],
            "text/plain": [
              "            Open  High   Low  ...  Weighted_Price        date  Year\n",
              "Date                          ...                                  \n",
              "2011-12-30  4.26  4.26  4.21  ...            4.21  2011-12-30  2011\n",
              "2011-12-30  4.50  4.50  4.50  ...            4.50  2011-12-30  2011\n",
              "2011-12-30  4.21  4.21  4.21  ...            4.21  2011-12-30  2011\n",
              "2011-12-30  4.21  4.21  4.21  ...            4.21  2011-12-30  2011\n",
              "2011-12-31  4.39  4.39  4.39  ...            4.39  2011-12-31  2011\n",
              "\n",
              "[5 rows x 9 columns]"
            ]
          },
          "metadata": {},
          "execution_count": 16
        }
      ]
    },
    {
      "cell_type": "code",
      "metadata": {
        "colab": {
          "base_uri": "https://localhost:8080/",
          "height": 0
        },
        "id": "VHu84a0L-89G",
        "outputId": "ed2b8d3c-5b45-4ded-9d3f-1593c24512c5"
      },
      "source": [
        "df['month'] = df['date'].apply(lambda x: int(str(x[5:7])))\n",
        "df.head()"
      ],
      "execution_count": 17,
      "outputs": [
        {
          "output_type": "execute_result",
          "data": {
            "text/html": [
              "<div>\n",
              "<style scoped>\n",
              "    .dataframe tbody tr th:only-of-type {\n",
              "        vertical-align: middle;\n",
              "    }\n",
              "\n",
              "    .dataframe tbody tr th {\n",
              "        vertical-align: top;\n",
              "    }\n",
              "\n",
              "    .dataframe thead th {\n",
              "        text-align: right;\n",
              "    }\n",
              "</style>\n",
              "<table border=\"1\" class=\"dataframe\">\n",
              "  <thead>\n",
              "    <tr style=\"text-align: right;\">\n",
              "      <th></th>\n",
              "      <th>Open</th>\n",
              "      <th>High</th>\n",
              "      <th>Low</th>\n",
              "      <th>Close</th>\n",
              "      <th>Volume_(BTC)</th>\n",
              "      <th>Volume_(Currency)</th>\n",
              "      <th>Weighted_Price</th>\n",
              "      <th>date</th>\n",
              "      <th>Year</th>\n",
              "      <th>month</th>\n",
              "    </tr>\n",
              "    <tr>\n",
              "      <th>Date</th>\n",
              "      <th></th>\n",
              "      <th></th>\n",
              "      <th></th>\n",
              "      <th></th>\n",
              "      <th></th>\n",
              "      <th></th>\n",
              "      <th></th>\n",
              "      <th></th>\n",
              "      <th></th>\n",
              "      <th></th>\n",
              "    </tr>\n",
              "  </thead>\n",
              "  <tbody>\n",
              "    <tr>\n",
              "      <th>2011-12-30</th>\n",
              "      <td>4.26</td>\n",
              "      <td>4.26</td>\n",
              "      <td>4.21</td>\n",
              "      <td>4.21</td>\n",
              "      <td>12.33</td>\n",
              "      <td>51.96</td>\n",
              "      <td>4.21</td>\n",
              "      <td>2011-12-30</td>\n",
              "      <td>2011</td>\n",
              "      <td>12</td>\n",
              "    </tr>\n",
              "    <tr>\n",
              "      <th>2011-12-30</th>\n",
              "      <td>4.50</td>\n",
              "      <td>4.50</td>\n",
              "      <td>4.50</td>\n",
              "      <td>4.50</td>\n",
              "      <td>4.20</td>\n",
              "      <td>18.90</td>\n",
              "      <td>4.50</td>\n",
              "      <td>2011-12-30</td>\n",
              "      <td>2011</td>\n",
              "      <td>12</td>\n",
              "    </tr>\n",
              "    <tr>\n",
              "      <th>2011-12-30</th>\n",
              "      <td>4.21</td>\n",
              "      <td>4.21</td>\n",
              "      <td>4.21</td>\n",
              "      <td>4.21</td>\n",
              "      <td>39.77</td>\n",
              "      <td>167.43</td>\n",
              "      <td>4.21</td>\n",
              "      <td>2011-12-30</td>\n",
              "      <td>2011</td>\n",
              "      <td>12</td>\n",
              "    </tr>\n",
              "    <tr>\n",
              "      <th>2011-12-30</th>\n",
              "      <td>4.21</td>\n",
              "      <td>4.21</td>\n",
              "      <td>4.21</td>\n",
              "      <td>4.21</td>\n",
              "      <td>0.44</td>\n",
              "      <td>1.85</td>\n",
              "      <td>4.21</td>\n",
              "      <td>2011-12-30</td>\n",
              "      <td>2011</td>\n",
              "      <td>12</td>\n",
              "    </tr>\n",
              "    <tr>\n",
              "      <th>2011-12-31</th>\n",
              "      <td>4.39</td>\n",
              "      <td>4.39</td>\n",
              "      <td>4.39</td>\n",
              "      <td>4.39</td>\n",
              "      <td>0.46</td>\n",
              "      <td>2.00</td>\n",
              "      <td>4.39</td>\n",
              "      <td>2011-12-31</td>\n",
              "      <td>2011</td>\n",
              "      <td>12</td>\n",
              "    </tr>\n",
              "  </tbody>\n",
              "</table>\n",
              "</div>"
            ],
            "text/plain": [
              "            Open  High   Low  Close  ...  Weighted_Price        date  Year month\n",
              "Date                                 ...                                        \n",
              "2011-12-30  4.26  4.26  4.21   4.21  ...            4.21  2011-12-30  2011    12\n",
              "2011-12-30  4.50  4.50  4.50   4.50  ...            4.50  2011-12-30  2011    12\n",
              "2011-12-30  4.21  4.21  4.21   4.21  ...            4.21  2011-12-30  2011    12\n",
              "2011-12-30  4.21  4.21  4.21   4.21  ...            4.21  2011-12-30  2011    12\n",
              "2011-12-31  4.39  4.39  4.39   4.39  ...            4.39  2011-12-31  2011    12\n",
              "\n",
              "[5 rows x 10 columns]"
            ]
          },
          "metadata": {},
          "execution_count": 17
        }
      ]
    },
    {
      "cell_type": "markdown",
      "metadata": {
        "id": "LS7hpbSx0zyx"
      },
      "source": [
        "# Data Visualisation"
      ]
    },
    {
      "cell_type": "code",
      "metadata": {
        "id": "u6Wh9tmY_htI",
        "colab": {
          "base_uri": "https://localhost:8080/",
          "height": 0
        },
        "outputId": "66206d1e-e399-4e8d-9cff-8d24d66f9bba"
      },
      "source": [
        "fig=plt.figure(figsize=(25,25))\n",
        "\n",
        "plt.subplot(221)\n",
        "plt.title('Volume(currency) by year')\n",
        "plt.xlabel('year')\n",
        "plt.legend()\n",
        "plt.plot(df['Volume_(Currency)'])\n",
        "plt.subplot(222)\n",
        "plt.title('High by year')\n",
        "plt.xlabel('year')\n",
        "plt.legend()\n",
        "plt.plot(df['High'])\n",
        "plt.subplot(223)\n",
        "plt.title('Low by year')\n",
        "plt.xlabel('year')\n",
        "plt.legend()\n",
        "plt.plot(df['Low'])\n",
        "plt.subplot(224)\n",
        "plt.title('Volume(BTC) by year')\n",
        "plt.xlabel('year')\n",
        "plt.legend()\n",
        "plt.plot(df['Volume_(BTC)'])\n",
        "plt.show()"
      ],
      "execution_count": 18,
      "outputs": [
        {
          "output_type": "stream",
          "name": "stderr",
          "text": [
            "No handles with labels found to put in legend.\n",
            "No handles with labels found to put in legend.\n",
            "No handles with labels found to put in legend.\n",
            "No handles with labels found to put in legend.\n"
          ]
        },
        {
          "output_type": "display_data",
          "data": {
            "image/png": "[encoded data removed]",
            "text/plain": [
              "<Figure size 1800x1800 with 4 Axes>"
            ]
          },
          "metadata": {
            "needs_background": "light"
          }
        }
      ]
    },
    {
      "cell_type": "code",
      "metadata": {
        "colab": {
          "base_uri": "https://localhost:8080/",
          "height": 0
        },
        "id": "9KW8L_E01jMr",
        "outputId": "07ff1e1e-8b82-4f94-b35d-5dcdc7b29e8f"
      },
      "source": [
        "df.boxplot(column='High',by='Year')"
      ],
      "execution_count": 19,
      "outputs": [
        {
          "output_type": "stream",
          "name": "stderr",
          "text": [
            "/usr/local/lib/python3.7/dist-packages/numpy/core/_asarray.py:83: VisibleDeprecationWarning: Creating an ndarray from ragged nested sequences (which is a list-or-tuple of lists-or-tuples-or ndarrays with different lengths or shapes) is deprecated. If you meant to do this, you must specify 'dtype=object' when creating the ndarray\n",
            "  return array(a, dtype, copy=False, order=order)\n"
          ]
        },
        {
          "output_type": "execute_result",
          "data": {
            "text/plain": [
              "<matplotlib.axes._subplots.AxesSubplot at 0x7f1389d58810>"
            ]
          },
          "metadata": {},
          "execution_count": 19
        },
        {
          "output_type": "display_data",
          "data": {
            "image/png": "[encoded data removed]",
            "text/plain": [
              "<Figure size 432x288 with 1 Axes>"
            ]
          },
          "metadata": {
            "needs_background": "light"
          }
        }
      ]
    },
    {
      "cell_type": "code",
      "metadata": {
        "id": "DIjqwIiT_hwF",
        "colab": {
          "base_uri": "https://localhost:8080/",
          "height": 0
        },
        "outputId": "771227a2-cd82-483e-ba83-cf218d53597e"
      },
      "source": [
        "df.boxplot(column='Volume_(BTC)',by='Year')"
      ],
      "execution_count": 20,
      "outputs": [
        {
          "output_type": "stream",
          "name": "stderr",
          "text": [
            "/usr/local/lib/python3.7/dist-packages/numpy/core/_asarray.py:83: VisibleDeprecationWarning: Creating an ndarray from ragged nested sequences (which is a list-or-tuple of lists-or-tuples-or ndarrays with different lengths or shapes) is deprecated. If you meant to do this, you must specify 'dtype=object' when creating the ndarray\n",
            "  return array(a, dtype, copy=False, order=order)\n"
          ]
        },
        {
          "output_type": "execute_result",
          "data": {
            "text/plain": [
              "<matplotlib.axes._subplots.AxesSubplot at 0x7f1389ba57d0>"
            ]
          },
          "metadata": {},
          "execution_count": 20
        },
        {
          "output_type": "display_data",
          "data": {
            "image/png": "[encoded data removed]",
            "text/plain": [
              "<Figure size 432x288 with 1 Axes>"
            ]
          },
          "metadata": {
            "needs_background": "light"
          }
        }
      ]
    },
    {
      "cell_type": "code",
      "metadata": {
        "colab": {
          "base_uri": "https://localhost:8080/",
          "height": 0
        },
        "id": "hYSMCyVQ2n98",
        "outputId": "b9dbdfce-090a-432f-f3e4-39404cda41b4"
      },
      "source": [
        "\n",
        "plt.figure(figsize=(30,10))\n",
        "plt.xlabel('years')\n",
        "plt.ylabel('Close')\n",
        "plt.title('Close by years')\n",
        "plt.plot(df['Close'])"
      ],
      "execution_count": 21,
      "outputs": [
        {
          "output_type": "execute_result",
          "data": {
            "text/plain": [
              "[<matplotlib.lines.Line2D at 0x7f1389cbe810>]"
            ]
          },
          "metadata": {},
          "execution_count": 21
        },
        {
          "output_type": "display_data",
          "data": {
            "image/png": "[encoded data removed]",
            "text/plain": [
              "<Figure size 2160x720 with 1 Axes>"
            ]
          },
          "metadata": {
            "needs_background": "light"
          }
        }
      ]
    },
    {
      "cell_type": "code",
      "metadata": {
        "colab": {
          "base_uri": "https://localhost:8080/",
          "height": 0
        },
        "id": "lBq9Lbg2eObA",
        "outputId": "e9d910ed-8adb-4e63-e01e-436b6cd22216"
      },
      "source": [
        "df.corr().head()"
      ],
      "execution_count": 22,
      "outputs": [
        {
          "output_type": "execute_result",
          "data": {
            "text/html": [
              "<div>\n",
              "<style scoped>\n",
              "    .dataframe tbody tr th:only-of-type {\n",
              "        vertical-align: middle;\n",
              "    }\n",
              "\n",
              "    .dataframe tbody tr th {\n",
              "        vertical-align: top;\n",
              "    }\n",
              "\n",
              "    .dataframe thead th {\n",
              "        text-align: right;\n",
              "    }\n",
              "</style>\n",
              "<table border=\"1\" class=\"dataframe\">\n",
              "  <thead>\n",
              "    <tr style=\"text-align: right;\">\n",
              "      <th></th>\n",
              "      <th>Open</th>\n",
              "      <th>High</th>\n",
              "      <th>Low</th>\n",
              "      <th>Close</th>\n",
              "      <th>Volume_(BTC)</th>\n",
              "      <th>Volume_(Currency)</th>\n",
              "      <th>Weighted_Price</th>\n",
              "      <th>Year</th>\n",
              "      <th>month</th>\n",
              "    </tr>\n",
              "  </thead>\n",
              "  <tbody>\n",
              "    <tr>\n",
              "      <th>Open</th>\n",
              "      <td>1.000000</td>\n",
              "      <td>0.999993</td>\n",
              "      <td>0.999991</td>\n",
              "      <td>0.999987</td>\n",
              "      <td>-0.056646</td>\n",
              "      <td>0.505888</td>\n",
              "      <td>0.999993</td>\n",
              "      <td>0.650401</td>\n",
              "      <td>-0.056091</td>\n",
              "    </tr>\n",
              "    <tr>\n",
              "      <th>High</th>\n",
              "      <td>0.999993</td>\n",
              "      <td>1.000000</td>\n",
              "      <td>0.999987</td>\n",
              "      <td>0.999993</td>\n",
              "      <td>-0.056074</td>\n",
              "      <td>0.507111</td>\n",
              "      <td>0.999996</td>\n",
              "      <td>0.650067</td>\n",
              "      <td>-0.056255</td>\n",
              "    </tr>\n",
              "    <tr>\n",
              "      <th>Low</th>\n",
              "      <td>0.999991</td>\n",
              "      <td>0.999987</td>\n",
              "      <td>1.000000</td>\n",
              "      <td>0.999993</td>\n",
              "      <td>-0.057390</td>\n",
              "      <td>0.504334</td>\n",
              "      <td>0.999997</td>\n",
              "      <td>0.650727</td>\n",
              "      <td>-0.055938</td>\n",
              "    </tr>\n",
              "    <tr>\n",
              "      <th>Close</th>\n",
              "      <td>0.999987</td>\n",
              "      <td>0.999993</td>\n",
              "      <td>0.999993</td>\n",
              "      <td>1.000000</td>\n",
              "      <td>-0.056715</td>\n",
              "      <td>0.505800</td>\n",
              "      <td>0.999997</td>\n",
              "      <td>0.650379</td>\n",
              "      <td>-0.056096</td>\n",
              "    </tr>\n",
              "    <tr>\n",
              "      <th>Volume_(BTC)</th>\n",
              "      <td>-0.056646</td>\n",
              "      <td>-0.056074</td>\n",
              "      <td>-0.057390</td>\n",
              "      <td>-0.056715</td>\n",
              "      <td>1.000000</td>\n",
              "      <td>0.344510</td>\n",
              "      <td>-0.056752</td>\n",
              "      <td>-0.088803</td>\n",
              "      <td>0.030698</td>\n",
              "    </tr>\n",
              "  </tbody>\n",
              "</table>\n",
              "</div>"
            ],
            "text/plain": [
              "                  Open      High       Low  ...  Weighted_Price      Year     month\n",
              "Open          1.000000  0.999993  0.999991  ...        0.999993  0.650401 -0.056091\n",
              "High          0.999993  1.000000  0.999987  ...        0.999996  0.650067 -0.056255\n",
              "Low           0.999991  0.999987  1.000000  ...        0.999997  0.650727 -0.055938\n",
              "Close         0.999987  0.999993  0.999993  ...        0.999997  0.650379 -0.056096\n",
              "Volume_(BTC) -0.056646 -0.056074 -0.057390  ...       -0.056752 -0.088803  0.030698\n",
              "\n",
              "[5 rows x 9 columns]"
            ]
          },
          "metadata": {},
          "execution_count": 22
        }
      ]
    },
    {
      "cell_type": "markdown",
      "metadata": {
        "id": "psd40uph5zdc"
      },
      "source": [
        "The column we want to predict is Close"
      ]
    },
    {
      "cell_type": "markdown",
      "metadata": {
        "id": "acNLq472_Wah"
      },
      "source": [
        "# Building the model"
      ]
    },
    {
      "cell_type": "markdown",
      "metadata": {
        "id": "T_rcfvxWtxjt"
      },
      "source": [
        "# 1)RNN(Simple)"
      ]
    },
    {
      "cell_type": "code",
      "metadata": {
        "id": "p3ppL0KLDxCc"
      },
      "source": [
        "#RNN\n",
        "from keras.models import Sequential\n",
        "from keras.layers import LSTM,Dense,GRU,SimpleRNN,Dropout,Flatten\n",
        "\n",
        "from sklearn.preprocessing import MinMaxScaler,StandardScaler\n",
        "min_max_scaler = MinMaxScaler()\n",
        "import math\n",
        "\n",
        "\n",
        "from pandas import Series"
      ],
      "execution_count": 23,
      "outputs": []
    },
    {
      "cell_type": "code",
      "metadata": {
        "id": "USBuZw-pz9Vg"
      },
      "source": [
        "\n",
        "std=StandardScaler()\n",
        "dfc=df.copy()\n",
        "X=dfc.groupby('date')['Close'].max()\n",
        "\n",
        "train_size = int(len(X)*0.8)\n",
        "\n",
        "train_data = X[0:train_size]\n",
        "test_data = X[train_size:]\n",
        "\n",
        "train_data=np.array(train_data)\n",
        "train_data=train_data.reshape(train_data.shape[0],1)\n",
        "train_data=std.fit_transform(train_data)"
      ],
      "execution_count": 24,
      "outputs": []
    },
    {
      "cell_type": "code",
      "metadata": {
        "colab": {
          "base_uri": "https://localhost:8080/"
        },
        "id": "AL6bXDPDYN6o",
        "outputId": "72128791-c44d-45a7-8314-0cbff3427982"
      },
      "source": [
        "timestep=30\n",
        "x_train_rnn=[]\n",
        "y_train_rnn=[]\n",
        "# creating new sample points\n",
        "for i in range(timestep,train_data.shape[0]):\n",
        "    x_train_rnn.append(train_data[i-timestep:i,0])\n",
        "    y_train_rnn.append(train_data[i,0])\n",
        "\n",
        "x_train_rnn,y_train_rnn=np.array(x_train_rnn),np.array(y_train_rnn)\n",
        "x_train_rnn=x_train_rnn.reshape(x_train_rnn.shape[0],x_train_rnn.shape[1],1) #reshaped for RNN\n",
        "print(\"x_train_rnn shape= \",x_train_rnn.shape)\n",
        "print(\"y_train_rnn shape= \",y_train_rnn.shape)"
      ],
      "execution_count": 25,
      "outputs": [
        {
          "output_type": "stream",
          "name": "stdout",
          "text": [
            "x_train_rnn shape=  (2562, 30, 1)\n",
            "y_train_rnn shape=  (2562,)\n"
          ]
        }
      ]
    },
    {
      "cell_type": "code",
      "metadata": {
        "id": "_f6uOBLZEIVD"
      },
      "source": [
        "# init the model for RNN\n",
        "reg=Sequential()\n",
        "\n",
        "reg.add(SimpleRNN(256,activation='relu',return_sequences=True,input_shape=(x_train_rnn.shape[1],1)))\n",
        "reg.add(Dropout(0.3))\n",
        "reg.add(SimpleRNN(256,return_sequences=True,activation='relu'))\n",
        "reg.add(Dropout(0.3))\n",
        "reg.add(SimpleRNN(64,return_sequences=True,activation='relu'))\n",
        "reg.add(Dropout(0.3))\n",
        "reg.add(Dense(1))\n",
        "\n",
        "\n",
        "reg.compile(optimizer='adam',loss='mean_squared_error')\n"
      ],
      "execution_count": 26,
      "outputs": []
    },
    {
      "cell_type": "code",
      "metadata": {
        "id": "xEyQwLhkYqWN",
        "colab": {
          "base_uri": "https://localhost:8080/"
        },
        "outputId": "c4e4ddfe-f475-469f-a1cb-ac0fffbcc421"
      },
      "source": [
        "#training the model\n",
        "val=reg.fit(x_train_rnn,y_train_rnn,epochs=50,batch_size=20,validation_split=0.1)"
      ],
      "execution_count": 27,
      "outputs": [
        {
          "output_type": "stream",
          "name": "stdout",
          "text": [
            "Epoch 1/50\n",
            "116/116 [==============================] - 11s 75ms/step - loss: 0.2031 - val_loss: 0.2110\n",
            "Epoch 2/50\n",
            "116/116 [==============================] - 8s 72ms/step - loss: 0.1159 - val_loss: 0.0715\n",
            "Epoch 3/50\n",
            "116/116 [==============================] - 8s 72ms/step - loss: 0.1073 - val_loss: 0.1464\n",
            "Epoch 4/50\n",
            "116/116 [==============================] - 8s 73ms/step - loss: 0.1046 - val_loss: 0.1004\n",
            "Epoch 5/50\n",
            "116/116 [==============================] - 8s 72ms/step - loss: 0.1023 - val_loss: 0.1178\n",
            "Epoch 6/50\n",
            "116/116 [==============================] - 8s 71ms/step - loss: 0.0954 - val_loss: 0.1257\n",
            "Epoch 7/50\n",
            "116/116 [==============================] - 8s 72ms/step - loss: 0.1038 - val_loss: 0.2756\n",
            "Epoch 8/50\n",
            "116/116 [==============================] - 8s 72ms/step - loss: 0.1008 - val_loss: 0.1880\n",
            "Epoch 9/50\n",
            "116/116 [==============================] - 8s 72ms/step - loss: 0.0852 - val_loss: 0.1358\n",
            "Epoch 10/50\n",
            "116/116 [==============================] - 8s 71ms/step - loss: 0.0864 - val_loss: 0.0852\n",
            "Epoch 11/50\n",
            "116/116 [==============================] - 8s 72ms/step - loss: 0.0965 - val_loss: 0.2290\n",
            "Epoch 12/50\n",
            "116/116 [==============================] - 8s 71ms/step - loss: 0.0844 - val_loss: 0.1721\n",
            "Epoch 13/50\n",
            "116/116 [==============================] - 8s 72ms/step - loss: 0.0882 - val_loss: 0.0782\n",
            "Epoch 14/50\n",
            "116/116 [==============================] - 8s 73ms/step - loss: 0.0900 - val_loss: 0.2194\n",
            "Epoch 15/50\n",
            "116/116 [==============================] - 8s 73ms/step - loss: 0.0862 - val_loss: 0.2950\n",
            "Epoch 16/50\n",
            "116/116 [==============================] - 8s 72ms/step - loss: 0.0877 - val_loss: 0.1587\n",
            "Epoch 17/50\n",
            "116/116 [==============================] - 8s 71ms/step - loss: 0.0840 - val_loss: 0.1317\n",
            "Epoch 18/50\n",
            "116/116 [==============================] - 8s 72ms/step - loss: 0.0816 - val_loss: 0.1690\n",
            "Epoch 19/50\n",
            "116/116 [==============================] - 8s 71ms/step - loss: 0.0827 - val_loss: 0.5692\n",
            "Epoch 20/50\n",
            "116/116 [==============================] - 8s 72ms/step - loss: 0.0898 - val_loss: 0.2187\n",
            "Epoch 21/50\n",
            "116/116 [==============================] - 8s 71ms/step - loss: 0.0840 - val_loss: 0.0831\n",
            "Epoch 22/50\n",
            "116/116 [==============================] - 8s 71ms/step - loss: 0.0817 - val_loss: 0.1807\n",
            "Epoch 23/50\n",
            "116/116 [==============================] - 8s 72ms/step - loss: 0.0773 - val_loss: 0.2548\n",
            "Epoch 24/50\n",
            "116/116 [==============================] - 8s 72ms/step - loss: 0.0780 - val_loss: 0.3607\n",
            "Epoch 25/50\n",
            "116/116 [==============================] - 8s 71ms/step - loss: 0.0853 - val_loss: 0.1372\n",
            "Epoch 26/50\n",
            "116/116 [==============================] - 8s 72ms/step - loss: 0.0879 - val_loss: 0.1189\n",
            "Epoch 27/50\n",
            "116/116 [==============================] - 8s 72ms/step - loss: 0.0781 - val_loss: 0.1169\n",
            "Epoch 28/50\n",
            "116/116 [==============================] - 8s 72ms/step - loss: 0.0796 - val_loss: 0.2638\n",
            "Epoch 29/50\n",
            "116/116 [==============================] - 8s 72ms/step - loss: 0.0796 - val_loss: 0.1799\n",
            "Epoch 30/50\n",
            "116/116 [==============================] - 8s 71ms/step - loss: 0.0779 - val_loss: 0.1759\n",
            "Epoch 31/50\n",
            "116/116 [==============================] - 8s 72ms/step - loss: 0.0799 - val_loss: 0.2648\n",
            "Epoch 32/50\n",
            "116/116 [==============================] - 8s 72ms/step - loss: 0.0790 - val_loss: 0.2356\n",
            "Epoch 33/50\n",
            "116/116 [==============================] - 8s 72ms/step - loss: 0.0941 - val_loss: 0.1488\n",
            "Epoch 34/50\n",
            "116/116 [==============================] - 8s 72ms/step - loss: 0.0798 - val_loss: 0.1866\n",
            "Epoch 35/50\n",
            "116/116 [==============================] - 8s 71ms/step - loss: 0.0808 - val_loss: 0.1877\n",
            "Epoch 36/50\n",
            "116/116 [==============================] - 8s 72ms/step - loss: 0.0775 - val_loss: 0.2835\n",
            "Epoch 37/50\n",
            "116/116 [==============================] - 8s 72ms/step - loss: 0.0771 - val_loss: 0.3017\n",
            "Epoch 38/50\n",
            "116/116 [==============================] - 8s 72ms/step - loss: 0.0764 - val_loss: 0.4847\n",
            "Epoch 39/50\n",
            "116/116 [==============================] - 8s 72ms/step - loss: 0.0881 - val_loss: 0.1827\n",
            "Epoch 40/50\n",
            "116/116 [==============================] - 8s 73ms/step - loss: 0.0819 - val_loss: 0.6203\n",
            "Epoch 41/50\n",
            "116/116 [==============================] - 8s 73ms/step - loss: 0.0781 - val_loss: 0.2660\n",
            "Epoch 42/50\n",
            "116/116 [==============================] - 8s 73ms/step - loss: 0.0747 - val_loss: 0.7104\n",
            "Epoch 43/50\n",
            "116/116 [==============================] - 8s 72ms/step - loss: 0.0739 - val_loss: 0.1868\n",
            "Epoch 44/50\n",
            "116/116 [==============================] - 8s 72ms/step - loss: 0.0823 - val_loss: 0.2457\n",
            "Epoch 45/50\n",
            "116/116 [==============================] - 8s 73ms/step - loss: 0.0758 - val_loss: 0.2043\n",
            "Epoch 46/50\n",
            "116/116 [==============================] - 8s 73ms/step - loss: 0.0758 - val_loss: 0.2239\n",
            "Epoch 47/50\n",
            "116/116 [==============================] - 8s 72ms/step - loss: 0.0736 - val_loss: 0.3641\n",
            "Epoch 48/50\n",
            "116/116 [==============================] - 8s 72ms/step - loss: 0.0726 - val_loss: 0.2753\n",
            "Epoch 49/50\n",
            "116/116 [==============================] - 8s 72ms/step - loss: 0.0729 - val_loss: 0.2944\n",
            "Epoch 50/50\n",
            "116/116 [==============================] - 8s 73ms/step - loss: 0.0714 - val_loss: 0.2645\n"
          ]
        }
      ]
    },
    {
      "cell_type": "code",
      "metadata": {
        "id": "iW43vfkAYqyA"
      },
      "source": [
        "reg.save('/model/timestamp_priceRNN.h5') "
      ],
      "execution_count": 28,
      "outputs": []
    },
    {
      "cell_type": "code",
      "metadata": {
        "id": "-4_LkMg95wFQ"
      },
      "source": [
        "\n",
        "test=X[len(X)-len(test_data)-timestep:]\n",
        "test=test.values.reshape(-1,1)\n",
        "test=min_max_scaler.fit_transform(test)    #standardizing"
      ],
      "execution_count": 29,
      "outputs": []
    },
    {
      "cell_type": "code",
      "metadata": {
        "id": "x60vJ_NBHyTg"
      },
      "source": [
        "# preparing sample points for test data\n",
        "x_test_rnn=[]\n",
        "y_test_rnn=[]\n",
        "for i in range(timestep,test.shape[0]):\n",
        "    x_test_rnn.append(test[i-timestep:i,0])\n",
        "    y_test_rnn.append(test[i,0])\n",
        "x_test_rnn=np.array(x_test_rnn)\n",
        "y_test_rnn=np.array(y_test_rnn)\n",
        "x_test_rnn=x_test_rnn.reshape(x_test_rnn.shape[0],x_test_rnn.shape[1],1)"
      ],
      "execution_count": 30,
      "outputs": []
    },
    {
      "cell_type": "code",
      "metadata": {
        "id": "Paa6cC_7jFs1"
      },
      "source": [
        "\n",
        "pred = reg.predict(x_test_rnn)          #predicting on test data\n",
        "rnn_pred=std.inverse_transform(pred)  \n",
        "data_test=np.array(test_data)\n",
        "data_test=data_test.reshape(len(data_test),1)"
      ],
      "execution_count": 31,
      "outputs": []
    },
    {
      "cell_type": "code",
      "metadata": {
        "id": "4SJde-hGAtXw"
      },
      "source": [
        "rnn_pred=rnn_pred.reshape(len(rnn_pred)*30,1)"
      ],
      "execution_count": 32,
      "outputs": []
    },
    {
      "cell_type": "code",
      "metadata": {
        "colab": {
          "base_uri": "https://localhost:8080/"
        },
        "id": "LSOMPi0HDZ1C",
        "outputId": "de2015ae-6761-41e3-b42b-1f3177123b7f"
      },
      "source": [
        "rnn_pred"
      ],
      "execution_count": 33,
      "outputs": [
        {
          "output_type": "execute_result",
          "data": {
            "text/plain": [
              "array([[2542.9084],\n",
              "       [2656.767 ],\n",
              "       [2624.7766],\n",
              "       ...,\n",
              "       [4389.5366],\n",
              "       [4411.172 ],\n",
              "       [4440.492 ]], dtype=float32)"
            ]
          },
          "metadata": {},
          "execution_count": 33
        }
      ]
    },
    {
      "cell_type": "code",
      "metadata": {
        "colab": {
          "base_uri": "https://localhost:8080/",
          "height": 449
        },
        "id": "oZKY9ApxZdUS",
        "outputId": "3ff197fe-cc3f-46df-9821-4320ce2385f9"
      },
      "source": [
        "plt.figure(figsize = (20,7))\n",
        "plt.plot(data_test,'-')\n",
        "plt.plot(rnn_pred,'-')\n",
        "plt.xlabel('Time(days)')\n",
        "plt.ylabel('Price')\n",
        "plt.title('Price vs Time (using SimpleRNN)')\n",
        "plt.legend(['Actual price', 'Predicted price'])\n",
        "plt.show()"
      ],
      "execution_count": 34,
      "outputs": [
        {
          "output_type": "display_data",
          "data": {
            "image/png": "[encoded data removed]",
            "text/plain": [
              "<Figure size 1440x504 with 1 Axes>"
            ]
          },
          "metadata": {
            "needs_background": "light"
          }
        }
      ]
    },
    {
      "cell_type": "markdown",
      "metadata": {
        "id": "bxokilzDxw3J"
      },
      "source": [
        "The error is very large"
      ]
    },
    {
      "cell_type": "markdown",
      "metadata": {
        "id": "-TmdRhUnuIau"
      },
      "source": [
        "# 2)Random Forest Regressor"
      ]
    },
    {
      "cell_type": "markdown",
      "metadata": {
        "id": "qskz-3AS_6CX"
      },
      "source": [
        "splitting into training and test sets"
      ]
    },
    {
      "cell_type": "code",
      "metadata": {
        "id": "1EtKvYKe66i1"
      },
      "source": [
        "dfc=df.copy()"
      ],
      "execution_count": 35,
      "outputs": []
    },
    {
      "cell_type": "code",
      "metadata": {
        "id": "OxsgYShy5t42",
        "colab": {
          "base_uri": "https://localhost:8080/"
        },
        "outputId": "f5b0d5a4-ebe8-4998-a60e-d5c3697094c0"
      },
      "source": [
        "from sklearn.model_selection import train_test_split\n",
        "traincol=['Open','High','Low','Volume_(BTC)','Volume_(Currency)'\t,'Weighted_Price','Year']\n",
        "x=dfc[traincol]\n",
        "y=dfc['Close']\n",
        "\n",
        "x_train_rf,x_test_rf,y_train_rf,y_test_rf=train_test_split(x,y,test_size=0.2,random_state=0)\n",
        "x_train_rf.shape,x_test_rf.shape,y_train_rf.shape,y_test_rf.shape"
      ],
      "execution_count": 36,
      "outputs": [
        {
          "output_type": "execute_result",
          "data": {
            "text/plain": [
              "((221492, 7), (55374, 7), (221492,), (55374,))"
            ]
          },
          "metadata": {},
          "execution_count": 36
        }
      ]
    },
    {
      "cell_type": "code",
      "metadata": {
        "id": "9RMAuRdOlW9d",
        "colab": {
          "base_uri": "https://localhost:8080/"
        },
        "outputId": "edf8b371-a1b8-49f6-e647-76f677c60e92"
      },
      "source": [
        "y_test_rf\n"
      ],
      "execution_count": 37,
      "outputs": [
        {
          "output_type": "execute_result",
          "data": {
            "text/plain": [
              "Date\n",
              "2014-03-14     628.54\n",
              "2013-05-10     117.10\n",
              "2018-12-01    3956.42\n",
              "2019-06-10    7722.12\n",
              "2014-08-24     504.80\n",
              "               ...   \n",
              "2017-04-15    1176.53\n",
              "2013-06-11     105.64\n",
              "2016-08-04     566.15\n",
              "2012-11-15      10.98\n",
              "2014-04-18     479.98\n",
              "Name: Close, Length: 55374, dtype: float64"
            ]
          },
          "metadata": {},
          "execution_count": 37
        }
      ]
    },
    {
      "cell_type": "code",
      "metadata": {
        "id": "m77VxeJ1JFRB"
      },
      "source": [
        "from sklearn.ensemble import RandomForestRegressor\n",
        "from sklearn.datasets import make_regression\n",
        "from sklearn.metrics import mean_squared_error\n"
      ],
      "execution_count": 38,
      "outputs": []
    },
    {
      "cell_type": "code",
      "metadata": {
        "id": "R7waBfPHKaOw",
        "colab": {
          "base_uri": "https://localhost:8080/"
        },
        "outputId": "f8ea6cf0-3fe3-49c2-afb7-9a42601c86cc"
      },
      "source": [
        "train_error=[]\n",
        "test_error=[]\n",
        "minDepth=20\n",
        "maxDepth=40\n",
        "models=[]\n",
        "for depth in range(minDepth,maxDepth,5):\n",
        "    regr=RandomForestRegressor(max_depth=depth, random_state=0,n_estimators=5,verbose=2)\n",
        "    regr.fit(x_train_rf, y_train_rf)\n",
        "    models.append(regr)\n",
        "    tr_error=math.sqrt(mean_squared_error(regr.predict(x_train_rf),y_train_rf))\n",
        "    te_error=math.sqrt(mean_squared_error(regr.predict(x_test_rf),y_test_rf))\n",
        "    test_error.append(tr_error)\n",
        "    train_error.append(te_error)\n",
        "    print (depth,tr_error,te_error)"
      ],
      "execution_count": 39,
      "outputs": [
        {
          "output_type": "stream",
          "name": "stderr",
          "text": [
            "[Parallel(n_jobs=1)]: Using backend SequentialBackend with 1 concurrent workers.\n"
          ]
        },
        {
          "output_type": "stream",
          "name": "stdout",
          "text": [
            "building tree 1 of 5\n"
          ]
        },
        {
          "output_type": "stream",
          "name": "stderr",
          "text": [
            "[Parallel(n_jobs=1)]: Done   1 out of   1 | elapsed:    2.0s remaining:    0.0s\n"
          ]
        },
        {
          "output_type": "stream",
          "name": "stdout",
          "text": [
            "building tree 2 of 5\n",
            "building tree 3 of 5\n",
            "building tree 4 of 5\n",
            "building tree 5 of 5\n"
          ]
        },
        {
          "output_type": "stream",
          "name": "stderr",
          "text": [
            "[Parallel(n_jobs=1)]: Done   5 out of   5 | elapsed:   10.1s finished\n",
            "[Parallel(n_jobs=1)]: Using backend SequentialBackend with 1 concurrent workers.\n",
            "[Parallel(n_jobs=1)]: Done   1 out of   1 | elapsed:    0.1s remaining:    0.0s\n",
            "[Parallel(n_jobs=1)]: Done   5 out of   5 | elapsed:    0.4s finished\n",
            "[Parallel(n_jobs=1)]: Using backend SequentialBackend with 1 concurrent workers.\n",
            "[Parallel(n_jobs=1)]: Done   1 out of   1 | elapsed:    0.0s remaining:    0.0s\n",
            "[Parallel(n_jobs=1)]: Done   5 out of   5 | elapsed:    0.1s finished\n",
            "[Parallel(n_jobs=1)]: Using backend SequentialBackend with 1 concurrent workers.\n"
          ]
        },
        {
          "output_type": "stream",
          "name": "stdout",
          "text": [
            "20 9.295455827565846 19.63374944528766\n",
            "building tree 1 of 5\n"
          ]
        },
        {
          "output_type": "stream",
          "name": "stderr",
          "text": [
            "[Parallel(n_jobs=1)]: Done   1 out of   1 | elapsed:    2.2s remaining:    0.0s\n"
          ]
        },
        {
          "output_type": "stream",
          "name": "stdout",
          "text": [
            "building tree 2 of 5\n",
            "building tree 3 of 5\n",
            "building tree 4 of 5\n",
            "building tree 5 of 5\n"
          ]
        },
        {
          "output_type": "stream",
          "name": "stderr",
          "text": [
            "[Parallel(n_jobs=1)]: Done   5 out of   5 | elapsed:   10.7s finished\n",
            "[Parallel(n_jobs=1)]: Using backend SequentialBackend with 1 concurrent workers.\n",
            "[Parallel(n_jobs=1)]: Done   1 out of   1 | elapsed:    0.1s remaining:    0.0s\n",
            "[Parallel(n_jobs=1)]: Done   5 out of   5 | elapsed:    0.6s finished\n",
            "[Parallel(n_jobs=1)]: Using backend SequentialBackend with 1 concurrent workers.\n",
            "[Parallel(n_jobs=1)]: Done   1 out of   1 | elapsed:    0.0s remaining:    0.0s\n",
            "[Parallel(n_jobs=1)]: Done   5 out of   5 | elapsed:    0.2s finished\n",
            "[Parallel(n_jobs=1)]: Using backend SequentialBackend with 1 concurrent workers.\n"
          ]
        },
        {
          "output_type": "stream",
          "name": "stdout",
          "text": [
            "25 9.132018082761238 19.624554859689653\n",
            "building tree 1 of 5\n"
          ]
        },
        {
          "output_type": "stream",
          "name": "stderr",
          "text": [
            "[Parallel(n_jobs=1)]: Done   1 out of   1 | elapsed:    2.2s remaining:    0.0s\n"
          ]
        },
        {
          "output_type": "stream",
          "name": "stdout",
          "text": [
            "building tree 2 of 5\n",
            "building tree 3 of 5\n",
            "building tree 4 of 5\n",
            "building tree 5 of 5\n"
          ]
        },
        {
          "output_type": "stream",
          "name": "stderr",
          "text": [
            "[Parallel(n_jobs=1)]: Done   5 out of   5 | elapsed:   10.8s finished\n",
            "[Parallel(n_jobs=1)]: Using backend SequentialBackend with 1 concurrent workers.\n",
            "[Parallel(n_jobs=1)]: Done   1 out of   1 | elapsed:    0.1s remaining:    0.0s\n",
            "[Parallel(n_jobs=1)]: Done   5 out of   5 | elapsed:    0.6s finished\n",
            "[Parallel(n_jobs=1)]: Using backend SequentialBackend with 1 concurrent workers.\n",
            "[Parallel(n_jobs=1)]: Done   1 out of   1 | elapsed:    0.0s remaining:    0.0s\n",
            "[Parallel(n_jobs=1)]: Done   5 out of   5 | elapsed:    0.2s finished\n",
            "[Parallel(n_jobs=1)]: Using backend SequentialBackend with 1 concurrent workers.\n"
          ]
        },
        {
          "output_type": "stream",
          "name": "stdout",
          "text": [
            "30 9.113334863656982 19.51220208002197\n",
            "building tree 1 of 5\n"
          ]
        },
        {
          "output_type": "stream",
          "name": "stderr",
          "text": [
            "[Parallel(n_jobs=1)]: Done   1 out of   1 | elapsed:    2.2s remaining:    0.0s\n"
          ]
        },
        {
          "output_type": "stream",
          "name": "stdout",
          "text": [
            "building tree 2 of 5\n",
            "building tree 3 of 5\n",
            "building tree 4 of 5\n",
            "building tree 5 of 5\n"
          ]
        },
        {
          "output_type": "stream",
          "name": "stderr",
          "text": [
            "[Parallel(n_jobs=1)]: Done   5 out of   5 | elapsed:   10.8s finished\n",
            "[Parallel(n_jobs=1)]: Using backend SequentialBackend with 1 concurrent workers.\n",
            "[Parallel(n_jobs=1)]: Done   1 out of   1 | elapsed:    0.1s remaining:    0.0s\n"
          ]
        },
        {
          "output_type": "stream",
          "name": "stdout",
          "text": [
            "35 9.131540075770118 19.667986348642955\n"
          ]
        },
        {
          "output_type": "stream",
          "name": "stderr",
          "text": [
            "[Parallel(n_jobs=1)]: Done   5 out of   5 | elapsed:    0.6s finished\n",
            "[Parallel(n_jobs=1)]: Using backend SequentialBackend with 1 concurrent workers.\n",
            "[Parallel(n_jobs=1)]: Done   1 out of   1 | elapsed:    0.0s remaining:    0.0s\n",
            "[Parallel(n_jobs=1)]: Done   5 out of   5 | elapsed:    0.2s finished\n"
          ]
        }
      ]
    },
    {
      "cell_type": "code",
      "metadata": {
        "id": "TorqPVnGLSXS",
        "colab": {
          "base_uri": "https://localhost:8080/"
        },
        "outputId": "b8bed9bc-df3b-4008-80a3-021ef8ba24a0"
      },
      "source": [
        "train_error,test_error"
      ],
      "execution_count": 40,
      "outputs": [
        {
          "output_type": "execute_result",
          "data": {
            "text/plain": [
              "([19.63374944528766,\n",
              "  19.624554859689653,\n",
              "  19.51220208002197,\n",
              "  19.667986348642955],\n",
              " [9.295455827565846, 9.132018082761238, 9.113334863656982, 9.131540075770118])"
            ]
          },
          "metadata": {},
          "execution_count": 40
        }
      ]
    },
    {
      "cell_type": "code",
      "metadata": {
        "id": "nwARd8aDLSZy",
        "colab": {
          "base_uri": "https://localhost:8080/"
        },
        "outputId": "95806c9c-59d0-43d0-d49f-15bb206f2b8e"
      },
      "source": [
        "predicted_train=regr.predict(x_train_rf)\n",
        "predicted_train"
      ],
      "execution_count": 41,
      "outputs": [
        {
          "output_type": "stream",
          "name": "stderr",
          "text": [
            "[Parallel(n_jobs=1)]: Using backend SequentialBackend with 1 concurrent workers.\n",
            "[Parallel(n_jobs=1)]: Done   1 out of   1 | elapsed:    0.1s remaining:    0.0s\n",
            "[Parallel(n_jobs=1)]: Done   5 out of   5 | elapsed:    0.7s finished\n"
          ]
        },
        {
          "output_type": "execute_result",
          "data": {
            "text/plain": [
              "array([ 8177.076,   634.92 , 56281.616, ...,   405.684,   922.838,\n",
              "         368.87 ])"
            ]
          },
          "metadata": {},
          "execution_count": 41
        }
      ]
    },
    {
      "cell_type": "code",
      "metadata": {
        "id": "kTkcBGkILScQ",
        "colab": {
          "base_uri": "https://localhost:8080/",
          "height": 455
        },
        "outputId": "29ab12ff-06c0-4f2c-85ff-9e3c6640ea59"
      },
      "source": [
        "predt=pd.DataFrame({'Close_predicted':predicted_train},index=x_train_rf.index)\n",
        "predt"
      ],
      "execution_count": 43,
      "outputs": [
        {
          "output_type": "execute_result",
          "data": {
            "text/html": [
              "<div>\n",
              "<style scoped>\n",
              "    .dataframe tbody tr th:only-of-type {\n",
              "        vertical-align: middle;\n",
              "    }\n",
              "\n",
              "    .dataframe tbody tr th {\n",
              "        vertical-align: top;\n",
              "    }\n",
              "\n",
              "    .dataframe thead th {\n",
              "        text-align: right;\n",
              "    }\n",
              "</style>\n",
              "<table border=\"1\" class=\"dataframe\">\n",
              "  <thead>\n",
              "    <tr style=\"text-align: right;\">\n",
              "      <th></th>\n",
              "      <th>Close_predicted</th>\n",
              "    </tr>\n",
              "    <tr>\n",
              "      <th>Date</th>\n",
              "      <th></th>\n",
              "    </tr>\n",
              "  </thead>\n",
              "  <tbody>\n",
              "    <tr>\n",
              "      <th>2017-11-24</th>\n",
              "      <td>8177.076</td>\n",
              "    </tr>\n",
              "    <tr>\n",
              "      <th>2014-03-16</th>\n",
              "      <td>634.920</td>\n",
              "    </tr>\n",
              "    <tr>\n",
              "      <th>2021-03-17</th>\n",
              "      <td>56281.616</td>\n",
              "    </tr>\n",
              "    <tr>\n",
              "      <th>2016-06-16</th>\n",
              "      <td>707.448</td>\n",
              "    </tr>\n",
              "    <tr>\n",
              "      <th>2014-07-27</th>\n",
              "      <td>595.698</td>\n",
              "    </tr>\n",
              "    <tr>\n",
              "      <th>...</th>\n",
              "      <td>...</td>\n",
              "    </tr>\n",
              "    <tr>\n",
              "      <th>2018-12-25</th>\n",
              "      <td>3790.404</td>\n",
              "    </tr>\n",
              "    <tr>\n",
              "      <th>2015-03-11</th>\n",
              "      <td>290.674</td>\n",
              "    </tr>\n",
              "    <tr>\n",
              "      <th>2016-03-19</th>\n",
              "      <td>405.684</td>\n",
              "    </tr>\n",
              "    <tr>\n",
              "      <th>2017-01-21</th>\n",
              "      <td>922.838</td>\n",
              "    </tr>\n",
              "    <tr>\n",
              "      <th>2016-02-01</th>\n",
              "      <td>368.870</td>\n",
              "    </tr>\n",
              "  </tbody>\n",
              "</table>\n",
              "<p>221492 rows × 1 columns</p>\n",
              "</div>"
            ],
            "text/plain": [
              "            Close_predicted\n",
              "Date                       \n",
              "2017-11-24         8177.076\n",
              "2014-03-16          634.920\n",
              "2021-03-17        56281.616\n",
              "2016-06-16          707.448\n",
              "2014-07-27          595.698\n",
              "...                     ...\n",
              "2018-12-25         3790.404\n",
              "2015-03-11          290.674\n",
              "2016-03-19          405.684\n",
              "2017-01-21          922.838\n",
              "2016-02-01          368.870\n",
              "\n",
              "[221492 rows x 1 columns]"
            ]
          },
          "metadata": {},
          "execution_count": 43
        }
      ]
    },
    {
      "cell_type": "code",
      "metadata": {
        "id": "ofthXRFZLSiw",
        "colab": {
          "base_uri": "https://localhost:8080/",
          "height": 455
        },
        "outputId": "564aae0f-5187-4f03-f422-6bc4155296f7"
      },
      "source": [
        "anss=pd.concat([predt,y_train_rf],axis=1)\n",
        "anss\n"
      ],
      "execution_count": 44,
      "outputs": [
        {
          "output_type": "execute_result",
          "data": {
            "text/html": [
              "<div>\n",
              "<style scoped>\n",
              "    .dataframe tbody tr th:only-of-type {\n",
              "        vertical-align: middle;\n",
              "    }\n",
              "\n",
              "    .dataframe tbody tr th {\n",
              "        vertical-align: top;\n",
              "    }\n",
              "\n",
              "    .dataframe thead th {\n",
              "        text-align: right;\n",
              "    }\n",
              "</style>\n",
              "<table border=\"1\" class=\"dataframe\">\n",
              "  <thead>\n",
              "    <tr style=\"text-align: right;\">\n",
              "      <th></th>\n",
              "      <th>Close_predicted</th>\n",
              "      <th>Close</th>\n",
              "    </tr>\n",
              "    <tr>\n",
              "      <th>Date</th>\n",
              "      <th></th>\n",
              "      <th></th>\n",
              "    </tr>\n",
              "  </thead>\n",
              "  <tbody>\n",
              "    <tr>\n",
              "      <th>2017-11-24</th>\n",
              "      <td>8177.076</td>\n",
              "      <td>8177.07</td>\n",
              "    </tr>\n",
              "    <tr>\n",
              "      <th>2014-03-16</th>\n",
              "      <td>634.920</td>\n",
              "      <td>634.92</td>\n",
              "    </tr>\n",
              "    <tr>\n",
              "      <th>2021-03-17</th>\n",
              "      <td>56281.616</td>\n",
              "      <td>56248.63</td>\n",
              "    </tr>\n",
              "    <tr>\n",
              "      <th>2016-06-16</th>\n",
              "      <td>707.448</td>\n",
              "      <td>705.62</td>\n",
              "    </tr>\n",
              "    <tr>\n",
              "      <th>2014-07-27</th>\n",
              "      <td>595.698</td>\n",
              "      <td>595.74</td>\n",
              "    </tr>\n",
              "    <tr>\n",
              "      <th>...</th>\n",
              "      <td>...</td>\n",
              "      <td>...</td>\n",
              "    </tr>\n",
              "    <tr>\n",
              "      <th>2018-12-25</th>\n",
              "      <td>3790.404</td>\n",
              "      <td>3791.23</td>\n",
              "    </tr>\n",
              "    <tr>\n",
              "      <th>2015-03-11</th>\n",
              "      <td>290.674</td>\n",
              "      <td>290.88</td>\n",
              "    </tr>\n",
              "    <tr>\n",
              "      <th>2016-03-19</th>\n",
              "      <td>405.684</td>\n",
              "      <td>405.63</td>\n",
              "    </tr>\n",
              "    <tr>\n",
              "      <th>2017-01-21</th>\n",
              "      <td>922.838</td>\n",
              "      <td>924.00</td>\n",
              "    </tr>\n",
              "    <tr>\n",
              "      <th>2016-02-01</th>\n",
              "      <td>368.870</td>\n",
              "      <td>368.87</td>\n",
              "    </tr>\n",
              "  </tbody>\n",
              "</table>\n",
              "<p>221492 rows × 2 columns</p>\n",
              "</div>"
            ],
            "text/plain": [
              "            Close_predicted     Close\n",
              "Date                                 \n",
              "2017-11-24         8177.076   8177.07\n",
              "2014-03-16          634.920    634.92\n",
              "2021-03-17        56281.616  56248.63\n",
              "2016-06-16          707.448    705.62\n",
              "2014-07-27          595.698    595.74\n",
              "...                     ...       ...\n",
              "2018-12-25         3790.404   3791.23\n",
              "2015-03-11          290.674    290.88\n",
              "2016-03-19          405.684    405.63\n",
              "2017-01-21          922.838    924.00\n",
              "2016-02-01          368.870    368.87\n",
              "\n",
              "[221492 rows x 2 columns]"
            ]
          },
          "metadata": {},
          "execution_count": 44
        }
      ]
    },
    {
      "cell_type": "code",
      "metadata": {
        "id": "tbc4-RPutfOq",
        "colab": {
          "base_uri": "https://localhost:8080/"
        },
        "outputId": "4f5102b9-e00b-4554-c9f3-1b4d5b54d93f"
      },
      "source": [
        "from sklearn.metrics import mean_absolute_error\n",
        "error=mean_absolute_error(predt,y_train_rf)\n",
        "error"
      ],
      "execution_count": 45,
      "outputs": [
        {
          "output_type": "execute_result",
          "data": {
            "text/plain": [
              "2.3598123786688965"
            ]
          },
          "metadata": {},
          "execution_count": 45
        }
      ]
    },
    {
      "cell_type": "markdown",
      "metadata": {
        "id": "eNZoz6JJ81hP"
      },
      "source": [
        "We can clearly see from the table that the predicted values are very close to the actual values.Error is very less. Random forest is a good model for our prediction.\n",
        "\n",
        "Now, predicting for the test set."
      ]
    },
    {
      "cell_type": "code",
      "metadata": {
        "colab": {
          "base_uri": "https://localhost:8080/"
        },
        "id": "WVJuQBc4OCNb",
        "outputId": "0f514fa8-2e1e-4e12-a23c-7aca907ffa66"
      },
      "source": [
        "predicted_test=regr.predict(x_test_rf)"
      ],
      "execution_count": 46,
      "outputs": [
        {
          "output_type": "stream",
          "name": "stderr",
          "text": [
            "[Parallel(n_jobs=1)]: Using backend SequentialBackend with 1 concurrent workers.\n",
            "[Parallel(n_jobs=1)]: Done   1 out of   1 | elapsed:    0.1s remaining:    0.0s\n",
            "[Parallel(n_jobs=1)]: Done   5 out of   5 | elapsed:    0.4s finished\n"
          ]
        }
      ]
    },
    {
      "cell_type": "code",
      "metadata": {
        "id": "z5tP501vOUob"
      },
      "source": [
        "predtest=pd.DataFrame({'Close_predicted_test':predicted_test},index=x_test_rf.index)"
      ],
      "execution_count": 47,
      "outputs": []
    },
    {
      "cell_type": "code",
      "metadata": {
        "colab": {
          "base_uri": "https://localhost:8080/",
          "height": 455
        },
        "id": "rkeSHFW6OgfL",
        "outputId": "5e0052b7-dbcb-440f-ab4c-f6bd7391960e"
      },
      "source": [
        "predicted=pd.concat([predtest,y_test_rf],axis=1)\n",
        "predicted"
      ],
      "execution_count": 48,
      "outputs": [
        {
          "output_type": "execute_result",
          "data": {
            "text/html": [
              "<div>\n",
              "<style scoped>\n",
              "    .dataframe tbody tr th:only-of-type {\n",
              "        vertical-align: middle;\n",
              "    }\n",
              "\n",
              "    .dataframe tbody tr th {\n",
              "        vertical-align: top;\n",
              "    }\n",
              "\n",
              "    .dataframe thead th {\n",
              "        text-align: right;\n",
              "    }\n",
              "</style>\n",
              "<table border=\"1\" class=\"dataframe\">\n",
              "  <thead>\n",
              "    <tr style=\"text-align: right;\">\n",
              "      <th></th>\n",
              "      <th>Close_predicted_test</th>\n",
              "      <th>Close</th>\n",
              "    </tr>\n",
              "    <tr>\n",
              "      <th>Date</th>\n",
              "      <th></th>\n",
              "      <th></th>\n",
              "    </tr>\n",
              "  </thead>\n",
              "  <tbody>\n",
              "    <tr>\n",
              "      <th>2014-03-14</th>\n",
              "      <td>626.568</td>\n",
              "      <td>628.54</td>\n",
              "    </tr>\n",
              "    <tr>\n",
              "      <th>2013-05-10</th>\n",
              "      <td>117.614</td>\n",
              "      <td>117.10</td>\n",
              "    </tr>\n",
              "    <tr>\n",
              "      <th>2018-12-01</th>\n",
              "      <td>3959.640</td>\n",
              "      <td>3956.42</td>\n",
              "    </tr>\n",
              "    <tr>\n",
              "      <th>2019-06-10</th>\n",
              "      <td>7715.448</td>\n",
              "      <td>7722.12</td>\n",
              "    </tr>\n",
              "    <tr>\n",
              "      <th>2014-08-24</th>\n",
              "      <td>503.794</td>\n",
              "      <td>504.80</td>\n",
              "    </tr>\n",
              "    <tr>\n",
              "      <th>...</th>\n",
              "      <td>...</td>\n",
              "      <td>...</td>\n",
              "    </tr>\n",
              "    <tr>\n",
              "      <th>2017-04-15</th>\n",
              "      <td>1176.484</td>\n",
              "      <td>1176.53</td>\n",
              "    </tr>\n",
              "    <tr>\n",
              "      <th>2013-06-11</th>\n",
              "      <td>105.380</td>\n",
              "      <td>105.64</td>\n",
              "    </tr>\n",
              "    <tr>\n",
              "      <th>2016-08-04</th>\n",
              "      <td>567.866</td>\n",
              "      <td>566.15</td>\n",
              "    </tr>\n",
              "    <tr>\n",
              "      <th>2012-11-15</th>\n",
              "      <td>10.966</td>\n",
              "      <td>10.98</td>\n",
              "    </tr>\n",
              "    <tr>\n",
              "      <th>2014-04-18</th>\n",
              "      <td>480.992</td>\n",
              "      <td>479.98</td>\n",
              "    </tr>\n",
              "  </tbody>\n",
              "</table>\n",
              "<p>55374 rows × 2 columns</p>\n",
              "</div>"
            ],
            "text/plain": [
              "            Close_predicted_test    Close\n",
              "Date                                     \n",
              "2014-03-14               626.568   628.54\n",
              "2013-05-10               117.614   117.10\n",
              "2018-12-01              3959.640  3956.42\n",
              "2019-06-10              7715.448  7722.12\n",
              "2014-08-24               503.794   504.80\n",
              "...                          ...      ...\n",
              "2017-04-15              1176.484  1176.53\n",
              "2013-06-11               105.380   105.64\n",
              "2016-08-04               567.866   566.15\n",
              "2012-11-15                10.966    10.98\n",
              "2014-04-18               480.992   479.98\n",
              "\n",
              "[55374 rows x 2 columns]"
            ]
          },
          "metadata": {},
          "execution_count": 48
        }
      ]
    },
    {
      "cell_type": "code",
      "metadata": {
        "colab": {
          "base_uri": "https://localhost:8080/"
        },
        "id": "QvhdLK2s9Vk1",
        "outputId": "86393853-1869-44fc-c9b2-0b092068e20d"
      },
      "source": [
        "\n",
        "error_test_rf=mean_absolute_error(predicted_test,y_test_rf)\n",
        "error_test_rf"
      ],
      "execution_count": 64,
      "outputs": [
        {
          "output_type": "execute_result",
          "data": {
            "text/plain": [
              "5.868719349498797"
            ]
          },
          "metadata": {},
          "execution_count": 64
        }
      ]
    },
    {
      "cell_type": "markdown",
      "metadata": {
        "id": "26p29FaN9jTo"
      },
      "source": [
        "The error in the test data is also low"
      ]
    },
    {
      "cell_type": "markdown",
      "metadata": {
        "id": "_3lNHplv_2bZ"
      },
      "source": [
        "# 3) RNN(LSTM)\n"
      ]
    },
    {
      "cell_type": "code",
      "metadata": {
        "id": "F6TFhu7JBM3y",
        "colab": {
          "base_uri": "https://localhost:8080/"
        },
        "outputId": "51f1f6de-f736-4188-85f5-a1260fd8cd30"
      },
      "source": [
        "\n",
        "model=Sequential()\n",
        "\n",
        "model.add(LSTM(64,input_shape=(x_train_rnn.shape[1],1),activation=\"relu\"))\n",
        "\n",
        "\n",
        "model.add(Dense(1))\n",
        "\n",
        "model.compile(loss=\"mean_squared_error\",optimizer=\"adam\")\n",
        "\n",
        "hist=model.fit(x_train_rnn,y_train_rnn,epochs=100,batch_size=40,validation_split=0.1)"
      ],
      "execution_count": 49,
      "outputs": [
        {
          "output_type": "stream",
          "name": "stdout",
          "text": [
            "Epoch 1/100\n",
            "58/58 [==============================] - 3s 23ms/step - loss: 0.2639 - val_loss: 0.1779\n",
            "Epoch 2/100\n",
            "58/58 [==============================] - 1s 20ms/step - loss: 0.0212 - val_loss: 0.0306\n",
            "Epoch 3/100\n",
            "58/58 [==============================] - 1s 19ms/step - loss: 0.0136 - val_loss: 0.0237\n",
            "Epoch 4/100\n",
            "58/58 [==============================] - 1s 19ms/step - loss: 0.0093 - val_loss: 0.0133\n",
            "Epoch 5/100\n",
            "58/58 [==============================] - 1s 19ms/step - loss: 0.0078 - val_loss: 0.0174\n",
            "Epoch 6/100\n",
            "58/58 [==============================] - 1s 19ms/step - loss: 0.0078 - val_loss: 0.0117\n",
            "Epoch 7/100\n",
            "58/58 [==============================] - 1s 19ms/step - loss: 0.0078 - val_loss: 0.0186\n",
            "Epoch 8/100\n",
            "58/58 [==============================] - 1s 19ms/step - loss: 0.0077 - val_loss: 0.0106\n",
            "Epoch 9/100\n",
            "58/58 [==============================] - 1s 19ms/step - loss: 0.0065 - val_loss: 0.0132\n",
            "Epoch 10/100\n",
            "58/58 [==============================] - 1s 19ms/step - loss: 0.0065 - val_loss: 0.0076\n",
            "Epoch 11/100\n",
            "58/58 [==============================] - 1s 19ms/step - loss: 0.0073 - val_loss: 0.0072\n",
            "Epoch 12/100\n",
            "58/58 [==============================] - 1s 19ms/step - loss: 0.0063 - val_loss: 0.0110\n",
            "Epoch 13/100\n",
            "58/58 [==============================] - 1s 19ms/step - loss: 0.0062 - val_loss: 0.0157\n",
            "Epoch 14/100\n",
            "58/58 [==============================] - 1s 19ms/step - loss: 0.0074 - val_loss: 0.0085\n",
            "Epoch 15/100\n",
            "58/58 [==============================] - 1s 19ms/step - loss: 0.0066 - val_loss: 0.0131\n",
            "Epoch 16/100\n",
            "58/58 [==============================] - 1s 19ms/step - loss: 0.0063 - val_loss: 0.0063\n",
            "Epoch 17/100\n",
            "58/58 [==============================] - 1s 20ms/step - loss: 0.0059 - val_loss: 0.0130\n",
            "Epoch 18/100\n",
            "58/58 [==============================] - 1s 19ms/step - loss: 0.0067 - val_loss: 0.0074\n",
            "Epoch 19/100\n",
            "58/58 [==============================] - 1s 19ms/step - loss: 0.0057 - val_loss: 0.0058\n",
            "Epoch 20/100\n",
            "58/58 [==============================] - 1s 19ms/step - loss: 0.0061 - val_loss: 0.0077\n",
            "Epoch 21/100\n",
            "58/58 [==============================] - 1s 19ms/step - loss: 0.0060 - val_loss: 0.0091\n",
            "Epoch 22/100\n",
            "58/58 [==============================] - 1s 19ms/step - loss: 0.0056 - val_loss: 0.0062\n",
            "Epoch 23/100\n",
            "58/58 [==============================] - 1s 19ms/step - loss: 0.0056 - val_loss: 0.0059\n",
            "Epoch 24/100\n",
            "58/58 [==============================] - 1s 19ms/step - loss: 0.0062 - val_loss: 0.0060\n",
            "Epoch 25/100\n",
            "58/58 [==============================] - 1s 20ms/step - loss: 0.0053 - val_loss: 0.0193\n",
            "Epoch 26/100\n",
            "58/58 [==============================] - 1s 19ms/step - loss: 0.0060 - val_loss: 0.0053\n",
            "Epoch 27/100\n",
            "58/58 [==============================] - 1s 19ms/step - loss: 0.0061 - val_loss: 0.0052\n",
            "Epoch 28/100\n",
            "58/58 [==============================] - 1s 19ms/step - loss: 0.0054 - val_loss: 0.0050\n",
            "Epoch 29/100\n",
            "58/58 [==============================] - 1s 19ms/step - loss: 0.0059 - val_loss: 0.0049\n",
            "Epoch 30/100\n",
            "58/58 [==============================] - 1s 19ms/step - loss: 0.0054 - val_loss: 0.0093\n",
            "Epoch 31/100\n",
            "58/58 [==============================] - 1s 20ms/step - loss: 0.0055 - val_loss: 0.0049\n",
            "Epoch 32/100\n",
            "58/58 [==============================] - 1s 19ms/step - loss: 0.0053 - val_loss: 0.0145\n",
            "Epoch 33/100\n",
            "58/58 [==============================] - 1s 19ms/step - loss: 0.0054 - val_loss: 0.0215\n",
            "Epoch 34/100\n",
            "58/58 [==============================] - 1s 20ms/step - loss: 0.0057 - val_loss: 0.0053\n",
            "Epoch 35/100\n",
            "58/58 [==============================] - 1s 19ms/step - loss: 0.0051 - val_loss: 0.0053\n",
            "Epoch 36/100\n",
            "58/58 [==============================] - 1s 19ms/step - loss: 0.0053 - val_loss: 0.0046\n",
            "Epoch 37/100\n",
            "58/58 [==============================] - 1s 19ms/step - loss: 0.0067 - val_loss: 0.0078\n",
            "Epoch 38/100\n",
            "58/58 [==============================] - 1s 19ms/step - loss: 0.0051 - val_loss: 0.0111\n",
            "Epoch 39/100\n",
            "58/58 [==============================] - 1s 19ms/step - loss: 0.0059 - val_loss: 0.0051\n",
            "Epoch 40/100\n",
            "58/58 [==============================] - 1s 20ms/step - loss: 0.0056 - val_loss: 0.0061\n",
            "Epoch 41/100\n",
            "58/58 [==============================] - 1s 19ms/step - loss: 0.0049 - val_loss: 0.0047\n",
            "Epoch 42/100\n",
            "58/58 [==============================] - 1s 19ms/step - loss: 0.0049 - val_loss: 0.0063\n",
            "Epoch 43/100\n",
            "58/58 [==============================] - 1s 19ms/step - loss: 0.0057 - val_loss: 0.0047\n",
            "Epoch 44/100\n",
            "58/58 [==============================] - 1s 20ms/step - loss: 0.0051 - val_loss: 0.0047\n",
            "Epoch 45/100\n",
            "58/58 [==============================] - 1s 19ms/step - loss: 0.0048 - val_loss: 0.0082\n",
            "Epoch 46/100\n",
            "58/58 [==============================] - 1s 19ms/step - loss: 0.0049 - val_loss: 0.0208\n",
            "Epoch 47/100\n",
            "58/58 [==============================] - 1s 19ms/step - loss: 0.0090 - val_loss: 0.0046\n",
            "Epoch 48/100\n",
            "58/58 [==============================] - 1s 20ms/step - loss: 0.0056 - val_loss: 0.0132\n",
            "Epoch 49/100\n",
            "58/58 [==============================] - 1s 19ms/step - loss: 0.0052 - val_loss: 0.0048\n",
            "Epoch 50/100\n",
            "58/58 [==============================] - 1s 19ms/step - loss: 0.0051 - val_loss: 0.0043\n",
            "Epoch 51/100\n",
            "58/58 [==============================] - 1s 19ms/step - loss: 0.0052 - val_loss: 0.0067\n",
            "Epoch 52/100\n",
            "58/58 [==============================] - 1s 19ms/step - loss: 0.0052 - val_loss: 0.0042\n",
            "Epoch 53/100\n",
            "58/58 [==============================] - 1s 19ms/step - loss: 0.0062 - val_loss: 0.0127\n",
            "Epoch 54/100\n",
            "58/58 [==============================] - 1s 19ms/step - loss: 0.0048 - val_loss: 0.0049\n",
            "Epoch 55/100\n",
            "58/58 [==============================] - 1s 19ms/step - loss: 0.0053 - val_loss: 0.0053\n",
            "Epoch 56/100\n",
            "58/58 [==============================] - 1s 19ms/step - loss: 0.0056 - val_loss: 0.0148\n",
            "Epoch 57/100\n",
            "58/58 [==============================] - 1s 19ms/step - loss: 0.0052 - val_loss: 0.0071\n",
            "Epoch 58/100\n",
            "58/58 [==============================] - 1s 19ms/step - loss: 0.0049 - val_loss: 0.0186\n",
            "Epoch 59/100\n",
            "58/58 [==============================] - 1s 19ms/step - loss: 0.0053 - val_loss: 0.0181\n",
            "Epoch 60/100\n",
            "58/58 [==============================] - 1s 19ms/step - loss: 0.0053 - val_loss: 0.0048\n",
            "Epoch 61/100\n",
            "58/58 [==============================] - 1s 19ms/step - loss: 0.0056 - val_loss: 0.0188\n",
            "Epoch 62/100\n",
            "58/58 [==============================] - 1s 19ms/step - loss: 0.0052 - val_loss: 0.0051\n",
            "Epoch 63/100\n",
            "58/58 [==============================] - 1s 19ms/step - loss: 0.0051 - val_loss: 0.0079\n",
            "Epoch 64/100\n",
            "58/58 [==============================] - 1s 19ms/step - loss: 0.0046 - val_loss: 0.0068\n",
            "Epoch 65/100\n",
            "58/58 [==============================] - 1s 19ms/step - loss: 0.0049 - val_loss: 0.0041\n",
            "Epoch 66/100\n",
            "58/58 [==============================] - 1s 19ms/step - loss: 0.0049 - val_loss: 0.0041\n",
            "Epoch 67/100\n",
            "58/58 [==============================] - 1s 18ms/step - loss: 0.0049 - val_loss: 0.0163\n",
            "Epoch 68/100\n",
            "58/58 [==============================] - 1s 19ms/step - loss: 0.0051 - val_loss: 0.0099\n",
            "Epoch 69/100\n",
            "58/58 [==============================] - 1s 19ms/step - loss: 0.0048 - val_loss: 0.0040\n",
            "Epoch 70/100\n",
            "58/58 [==============================] - 1s 19ms/step - loss: 0.0048 - val_loss: 0.0046\n",
            "Epoch 71/100\n",
            "58/58 [==============================] - 1s 19ms/step - loss: 0.0054 - val_loss: 0.0040\n",
            "Epoch 72/100\n",
            "58/58 [==============================] - 1s 19ms/step - loss: 0.0048 - val_loss: 0.0039\n",
            "Epoch 73/100\n",
            "58/58 [==============================] - 1s 19ms/step - loss: 0.0047 - val_loss: 0.0051\n",
            "Epoch 74/100\n",
            "58/58 [==============================] - 1s 19ms/step - loss: 0.0045 - val_loss: 0.0165\n",
            "Epoch 75/100\n",
            "58/58 [==============================] - 1s 19ms/step - loss: 0.0045 - val_loss: 0.0041\n",
            "Epoch 76/100\n",
            "58/58 [==============================] - 1s 19ms/step - loss: 0.0048 - val_loss: 0.0038\n",
            "Epoch 77/100\n",
            "58/58 [==============================] - 1s 19ms/step - loss: 0.0046 - val_loss: 0.0074\n",
            "Epoch 78/100\n",
            "58/58 [==============================] - 1s 19ms/step - loss: 0.0047 - val_loss: 0.0045\n",
            "Epoch 79/100\n",
            "58/58 [==============================] - 1s 19ms/step - loss: 0.0046 - val_loss: 0.0039\n",
            "Epoch 80/100\n",
            "58/58 [==============================] - 1s 19ms/step - loss: 0.0046 - val_loss: 0.0039\n",
            "Epoch 81/100\n",
            "58/58 [==============================] - 1s 19ms/step - loss: 0.0048 - val_loss: 0.0038\n",
            "Epoch 82/100\n",
            "58/58 [==============================] - 1s 19ms/step - loss: 0.0046 - val_loss: 0.0054\n",
            "Epoch 83/100\n",
            "58/58 [==============================] - 1s 19ms/step - loss: 0.0046 - val_loss: 0.0053\n",
            "Epoch 84/100\n",
            "58/58 [==============================] - 1s 19ms/step - loss: 0.0045 - val_loss: 0.0039\n",
            "Epoch 85/100\n",
            "58/58 [==============================] - 1s 19ms/step - loss: 0.0047 - val_loss: 0.0043\n",
            "Epoch 86/100\n",
            "58/58 [==============================] - 1s 19ms/step - loss: 0.0047 - val_loss: 0.0041\n",
            "Epoch 87/100\n",
            "58/58 [==============================] - 1s 19ms/step - loss: 0.0052 - val_loss: 0.0038\n",
            "Epoch 88/100\n",
            "58/58 [==============================] - 1s 19ms/step - loss: 0.0047 - val_loss: 0.0061\n",
            "Epoch 89/100\n",
            "58/58 [==============================] - 1s 19ms/step - loss: 0.0050 - val_loss: 0.0040\n",
            "Epoch 90/100\n",
            "58/58 [==============================] - 1s 19ms/step - loss: 0.0046 - val_loss: 0.0038\n",
            "Epoch 91/100\n",
            "58/58 [==============================] - 1s 20ms/step - loss: 0.0044 - val_loss: 0.0037\n",
            "Epoch 92/100\n",
            "58/58 [==============================] - 1s 20ms/step - loss: 0.0048 - val_loss: 0.0075\n",
            "Epoch 93/100\n",
            "58/58 [==============================] - 1s 20ms/step - loss: 0.0046 - val_loss: 0.0036\n",
            "Epoch 94/100\n",
            "58/58 [==============================] - 1s 20ms/step - loss: 0.0043 - val_loss: 0.0039\n",
            "Epoch 95/100\n",
            "58/58 [==============================] - 1s 19ms/step - loss: 0.0046 - val_loss: 0.0043\n",
            "Epoch 96/100\n",
            "58/58 [==============================] - 1s 20ms/step - loss: 0.0050 - val_loss: 0.0039\n",
            "Epoch 97/100\n",
            "58/58 [==============================] - 1s 19ms/step - loss: 0.0047 - val_loss: 0.0039\n",
            "Epoch 98/100\n",
            "58/58 [==============================] - 1s 20ms/step - loss: 0.0047 - val_loss: 0.0038\n",
            "Epoch 99/100\n",
            "58/58 [==============================] - 1s 19ms/step - loss: 0.0044 - val_loss: 0.0077\n",
            "Epoch 100/100\n",
            "58/58 [==============================] - 1s 19ms/step - loss: 0.0047 - val_loss: 0.0047\n"
          ]
        }
      ]
    },
    {
      "cell_type": "code",
      "metadata": {
        "id": "pN2DOHNPBNTR"
      },
      "source": [
        "model.save('/model/timeseries_price_LSTM.h5')"
      ],
      "execution_count": 50,
      "outputs": []
    },
    {
      "cell_type": "code",
      "metadata": {
        "id": "H5CF6tDmBNax",
        "colab": {
          "base_uri": "https://localhost:8080/",
          "height": 304
        },
        "outputId": "fcf3ae9d-4ea5-4e03-f77a-7a228caadca5"
      },
      "source": [
        "#plot loss for LSTM\n",
        "training_loss = hist.history['loss']\n",
        "val_loss = hist.history['val_loss']\n",
        "\n",
        "plt.plot(training_loss,label='training_loss')\n",
        "plt.plot(val_loss,label='val_loss')\n",
        "plt.legend()\n",
        "plt.title('Visualising loss for LSTM',fontsize=18)\n",
        "plt.xlabel('Epochs',fontsize=15)\n",
        "plt.ylabel('Loss',fontsize=15)\n",
        "plt.show()"
      ],
      "execution_count": 51,
      "outputs": [
        {
          "output_type": "display_data",
          "data": {
            "image/png": "[encoded data removed]",
            "text/plain": [
              "<Figure size 432x288 with 1 Axes>"
            ]
          },
          "metadata": {
            "needs_background": "light"
          }
        }
      ]
    },
    {
      "cell_type": "code",
      "metadata": {
        "colab": {
          "base_uri": "https://localhost:8080/"
        },
        "id": "faF7ARHX9We2",
        "outputId": "03785b33-0c9b-4fa5-a8c1-22922041e9ef"
      },
      "source": [
        "pred"
      ],
      "execution_count": 52,
      "outputs": [
        {
          "output_type": "execute_result",
          "data": {
            "text/plain": [
              "array([[[0.2615667 ],\n",
              "        [0.3008917 ],\n",
              "        [0.28984267],\n",
              "        ...,\n",
              "        [0.08370519],\n",
              "        [0.08369984],\n",
              "        [0.0836584 ]],\n",
              "\n",
              "       [[0.26294595],\n",
              "        [0.29992554],\n",
              "        [0.2898767 ],\n",
              "        ...,\n",
              "        [0.08372732],\n",
              "        [0.08367773],\n",
              "        [0.08357528]],\n",
              "\n",
              "       [[0.2508495 ],\n",
              "        [0.3006254 ],\n",
              "        [0.291648  ],\n",
              "        ...,\n",
              "        [0.08370306],\n",
              "        [0.08359307],\n",
              "        [0.08299004]],\n",
              "\n",
              "       ...,\n",
              "\n",
              "       [[0.96728796],\n",
              "        [0.96697325],\n",
              "        [0.9531978 ],\n",
              "        ...,\n",
              "        [0.8869684 ],\n",
              "        [0.8993766 ],\n",
              "        [0.899361  ]],\n",
              "\n",
              "       [[0.9699107 ],\n",
              "        [0.96368647],\n",
              "        [0.9500527 ],\n",
              "        ...,\n",
              "        [0.8993774 ],\n",
              "        [0.89936155],\n",
              "        [0.9068342 ]],\n",
              "\n",
              "       [[0.9423041 ],\n",
              "        [0.9481168 ],\n",
              "        [0.9648053 ],\n",
              "        ...,\n",
              "        [0.8993621 ],\n",
              "        [0.9068346 ],\n",
              "        [0.91696143]]], dtype=float32)"
            ]
          },
          "metadata": {},
          "execution_count": 52
        }
      ]
    },
    {
      "cell_type": "code",
      "metadata": {
        "id": "fdzEzoAKBNeM"
      },
      "source": [
        "pred = model.predict(x_test_rnn)          #making prediction\n",
        "lstm_pred=min_max_scaler.inverse_transform(pred)\n"
      ],
      "execution_count": 53,
      "outputs": []
    },
    {
      "cell_type": "code",
      "metadata": {
        "colab": {
          "base_uri": "https://localhost:8080/"
        },
        "id": "9TYX90noAtNf",
        "outputId": "4614a9ff-d7d6-4323-af94-f2ec72bd6351"
      },
      "source": [
        "\n",
        "error_lstm=mean_absolute_error(pred,y_test_rnn)\n",
        "error_lstm"
      ],
      "execution_count": 67,
      "outputs": [
        {
          "output_type": "execute_result",
          "data": {
            "text/plain": [
              "0.02109665201619315"
            ]
          },
          "metadata": {},
          "execution_count": 67
        }
      ]
    },
    {
      "cell_type": "code",
      "metadata": {
        "id": "5yfUYAdYB0yq",
        "colab": {
          "base_uri": "https://localhost:8080/"
        },
        "outputId": "5771c865-342b-4265-a3c2-8d7d7be5dd60"
      },
      "source": [
        "print('MSE : ' + str(mean_squared_error(y_test_rnn, pred)))\n",
        "rnn_score = r2_score(y_test_rnn,pred)\n",
        "print(\"R2 Score of LSTM model = \",rnn_score)"
      ],
      "execution_count": 54,
      "outputs": [
        {
          "output_type": "stream",
          "name": "stdout",
          "text": [
            "MSE : 0.0006609879264100597\n",
            "R2 Score of LSTM model =  0.9843374090603104\n"
          ]
        }
      ]
    },
    {
      "cell_type": "markdown",
      "metadata": {
        "id": "G92v5xptBL0z"
      },
      "source": [
        "The error is very low. LSTM model is a better fit than random forests."
      ]
    },
    {
      "cell_type": "code",
      "metadata": {
        "colab": {
          "base_uri": "https://localhost:8080/"
        },
        "id": "ROX-wFB6YK4w",
        "outputId": "f31ae492-94d4-4ef5-c1d2-bd9598ebc766"
      },
      "source": [
        "lstm_pred.shape"
      ],
      "execution_count": 55,
      "outputs": [
        {
          "output_type": "execute_result",
          "data": {
            "text/plain": [
              "(648, 1)"
            ]
          },
          "metadata": {},
          "execution_count": 55
        }
      ]
    },
    {
      "cell_type": "code",
      "metadata": {
        "id": "2bJVU-3NB01b",
        "colab": {
          "base_uri": "https://localhost:8080/",
          "height": 449
        },
        "outputId": "789f7086-a85a-4bb5-d470-5d8ecf0e21de"
      },
      "source": [
        "plt.figure(figsize = (20,7))\n",
        "plt.plot(data_test,'-')\n",
        "plt.plot(lstm_pred,'-')\n",
        "plt.xlabel('Time')\n",
        "plt.ylabel('Price')\n",
        "plt.title(' Price vs Time (using LSTM)')\n",
        "plt.legend(['Actual price', 'Predicted price'])\n",
        "plt.show()"
      ],
      "execution_count": 56,
      "outputs": [
        {
          "output_type": "display_data",
          "data": {
            "image/png": "[encoded data removed]",
            "text/plain": [
              "<Figure size 1440x504 with 1 Axes>"
            ]
          },
          "metadata": {
            "needs_background": "light"
          }
        }
      ]
    },
    {
      "cell_type": "markdown",
      "metadata": {
        "id": "B4dHxFtvbFDT"
      },
      "source": [
        "#Predicting bitcoin value for next 30 days using LSTM "
      ]
    },
    {
      "cell_type": "code",
      "metadata": {
        "id": "xMWgYkbJbNdw"
      },
      "source": [
        "values=x_test_rnn[-30]\n"
      ],
      "execution_count": 60,
      "outputs": []
    },
    {
      "cell_type": "code",
      "metadata": {
        "id": "0bpTAYL9bW8R"
      },
      "source": [
        "for i in range(30):  \n",
        "    kl=values[i:timestep+i].reshape(1,timestep,1)       \n",
        "    values=np.append(values,model.predict(kl),axis=0)   ##append predicted data using previous 30 days "
      ],
      "execution_count": 61,
      "outputs": []
    },
    {
      "cell_type": "code",
      "metadata": {
        "colab": {
          "base_uri": "https://localhost:8080/",
          "height": 455
        },
        "id": "EVMaGuvzbc3s",
        "outputId": "b31a0243-dea6-49af-d73f-90ba8e238387"
      },
      "source": [
        "#plot price for coming 30 days\n",
        "plt.figure(figsize = (20,7))\n",
        "plt.plot(values[30:],'-',label='Predicted price ')\n",
        "\n",
        "plt.xlabel('Days')\n",
        "plt.ylabel('Price')\n",
        "plt.title(' Predicted  CLOSE price of next 30 days ')\n",
        "plt.legend()\n",
        "plt.show()"
      ],
      "execution_count": 62,
      "outputs": [
        {
          "output_type": "display_data",
          "data": {
            "image/png": "[encoded data removed]",
            "text/plain": [
              "<Figure size 1440x504 with 1 Axes>"
            ]
          },
          "metadata": {
            "needs_background": "light"
          }
        }
      ]
    },
    {
      "cell_type": "markdown",
      "metadata": {
        "id": "zalghuJpb6Qw"
      },
      "source": [
        "CONCLUSION:\n",
        "\n",
        "1)The bitcoin price will increase almost linearly for the next 30 days\n",
        "\n",
        "2)It would be profitable to invest in bitcoin \n",
        "\n",
        "3)The investor need not check price everyday as it wont decrease\n",
        "\n",
        "4)Long Short Term Memory networks – usually just called “LSTMs” – are a special kind of RNN, capable of learning long-term dependencies.\n",
        "\n",
        "5)RNN using LSTM and  Random Forests have predicted great values for the test sets\n",
        "\n",
        "6) LSTM is used to predict the value for next 30 days.\n"
      ]
    }
  ]
}